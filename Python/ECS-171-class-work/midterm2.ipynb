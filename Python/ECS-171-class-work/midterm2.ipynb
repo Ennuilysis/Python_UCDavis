{
 "cells": [
  {
   "cell_type": "markdown",
   "source": [
    "Question 1"
   ],
   "metadata": {
    "collapsed": false
   }
  },
  {
   "cell_type": "code",
   "execution_count": 3,
   "outputs": [],
   "source": [
    "import numpy as np\n",
    "from sklearn.linear_model import LinearRegression\n",
    "from sklearn.preprocessing import PolynomialFeatures\n",
    "\n",
    "np.random.seed(0)\n",
    "x = 2 - 3 * np.random.normal(0, 1, 100)\n",
    "y = x - 2 * (x ** 2) + 0.5 * (x ** 3) + np.random.normal(-3, 3, 100)\n",
    "x = x[:, np.newaxis]\n",
    "y = y[:, np.newaxis]\n",
    "\n",
    "PF=PolynomialFeatures(degree=4).fit(x)\n",
    "x_transform=PF.transform(x)"
   ],
   "metadata": {
    "collapsed": false
   }
  },
  {
   "cell_type": "markdown",
   "source": [
    "Question 3"
   ],
   "metadata": {
    "collapsed": false
   }
  },
  {
   "cell_type": "code",
   "execution_count": 24,
   "outputs": [
    {
     "name": "stdout",
     "output_type": "stream",
     "text": [
      "intercept [-0.03050572] weight [-0.37532604 -0.41284927] support vector [[ 1.3128273   1.15479436]\n",
      " [-1.09840928 -1.49750566]]\n",
      "vector [-0.11098239  0.11098239]\n"
     ]
    },
    {
     "data": {
      "text/plain": "<Figure size 640x480 with 1 Axes>",
      "image/png": "[encoded data removed]"
     },
     "metadata": {},
     "output_type": "display_data"
    }
   ],
   "source": [
    "import numpy as np\n",
    "from sklearn import svm\n",
    "import seaborn as sns\n",
    "\n",
    "# Generate 15 positive and 15 negative samples\n",
    "np.random.seed(1)\n",
    "num_positive = 15\n",
    "num_negative = 15\n",
    "# Create random 2-d features\n",
    "X = np.r_[np.random.randn(num_positive, 2) - [2, 2], np.random.randn(num_negative, 2) + [2, 2]]\n",
    "# Assign 0 and 1 labels to all samples\n",
    "Y = [1] * num_positive + [-1] * num_negative\n",
    "\n",
    "#X is a 30 x 2 list\n",
    "#Y is a 30 x 1 list classifier\n",
    "\n",
    "# Create an SVM model and fit the dataset\n",
    "clf = svm.SVC(kernel=\"linear\")\n",
    "clf.fit(X, Y)\n",
    "\n",
    "x1=X[:,0]\n",
    "x2=X[:,1]\n",
    "sns.scatterplot(x = x1, y = x2, hue_order=Y)\n",
    "# Vector w is the parameter of the hyperplane\n",
    "w = clf.coef_[0]\n",
    "b=clf.intercept_\n",
    "print(\"intercept\",b, \"weight\", w,\"support vector\", clf.support_vectors_)\n",
    "print(\"vector\", sum(w*clf.support_vectors_)+b)\n",
    "\n",
    "# Define x+ and x-\n",
    "pos_support_vec = w[0]*clf.support_vectors_[0,0]+w[1]*clf.support_vectors_[0,1]+b\n",
    "neg_support_vec = w[0]*clf.support_vectors_[1,0]+w[1]*clf.support_vectors_[1,1]+b\n",
    "#\n",
    "# # Find x+ and x-\n",
    "#for vec in clf.support_vectors_:\n",
    "#\n",
    "#\n",
    "# # Calculate the margin with pos_support_vec, neg_support_vec, and w\n",
    "# margin = 2/numpy.sqrt(sum(w**2))\n",
    "#\n",
    "#\n",
    "# # Vector w is the parameter of the hyperplane\n",
    "# w = clf.coef_[0]\n",
    "#\n",
    "# # Fill in your code to calculate the margin\n",
    "# margin = ?"
   ],
   "metadata": {
    "collapsed": false
   }
  },
  {
   "cell_type": "markdown",
   "source": [
    "Question 5"
   ],
   "metadata": {
    "collapsed": false
   }
  },
  {
   "cell_type": "code",
   "execution_count": 23,
   "outputs": [
    {
     "data": {
      "text/plain": "LinearRegression()",
      "text/html": "<style>#sk-container-id-1 {color: black;background-color: white;}#sk-container-id-1 pre{padding: 0;}#sk-container-id-1 div.sk-toggleable {background-color: white;}#sk-container-id-1 label.sk-toggleable__label {cursor: pointer;display: block;width: 100%;margin-bottom: 0;padding: 0.3em;box-sizing: border-box;text-align: center;}#sk-container-id-1 label.sk-toggleable__label-arrow:before {content: \"▸\";float: left;margin-right: 0.25em;color: #696969;}#sk-container-id-1 label.sk-toggleable__label-arrow:hover:before {color: black;}#sk-container-id-1 div.sk-estimator:hover label.sk-toggleable__label-arrow:before {color: black;}#sk-container-id-1 div.sk-toggleable__content {max-height: 0;max-width: 0;overflow: hidden;text-align: left;background-color: #f0f8ff;}#sk-container-id-1 div.sk-toggleable__content pre {margin: 0.2em;color: black;border-radius: 0.25em;background-color: #f0f8ff;}#sk-container-id-1 input.sk-toggleable__control:checked~div.sk-toggleable__content {max-height: 200px;max-width: 100%;overflow: auto;}#sk-container-id-1 input.sk-toggleable__control:checked~label.sk-toggleable__label-arrow:before {content: \"▾\";}#sk-container-id-1 div.sk-estimator input.sk-toggleable__control:checked~label.sk-toggleable__label {background-color: #d4ebff;}#sk-container-id-1 div.sk-label input.sk-toggleable__control:checked~label.sk-toggleable__label {background-color: #d4ebff;}#sk-container-id-1 input.sk-hidden--visually {border: 0;clip: rect(1px 1px 1px 1px);clip: rect(1px, 1px, 1px, 1px);height: 1px;margin: -1px;overflow: hidden;padding: 0;position: absolute;width: 1px;}#sk-container-id-1 div.sk-estimator {font-family: monospace;background-color: #f0f8ff;border: 1px dotted black;border-radius: 0.25em;box-sizing: border-box;margin-bottom: 0.5em;}#sk-container-id-1 div.sk-estimator:hover {background-color: #d4ebff;}#sk-container-id-1 div.sk-parallel-item::after {content: \"\";width: 100%;border-bottom: 1px solid gray;flex-grow: 1;}#sk-container-id-1 div.sk-label:hover label.sk-toggleable__label {background-color: #d4ebff;}#sk-container-id-1 div.sk-serial::before {content: \"\";position: absolute;border-left: 1px solid gray;box-sizing: border-box;top: 0;bottom: 0;left: 50%;z-index: 0;}#sk-container-id-1 div.sk-serial {display: flex;flex-direction: column;align-items: center;background-color: white;padding-right: 0.2em;padding-left: 0.2em;position: relative;}#sk-container-id-1 div.sk-item {position: relative;z-index: 1;}#sk-container-id-1 div.sk-parallel {display: flex;align-items: stretch;justify-content: center;background-color: white;position: relative;}#sk-container-id-1 div.sk-item::before, #sk-container-id-1 div.sk-parallel-item::before {content: \"\";position: absolute;border-left: 1px solid gray;box-sizing: border-box;top: 0;bottom: 0;left: 50%;z-index: -1;}#sk-container-id-1 div.sk-parallel-item {display: flex;flex-direction: column;z-index: 1;position: relative;background-color: white;}#sk-container-id-1 div.sk-parallel-item:first-child::after {align-self: flex-end;width: 50%;}#sk-container-id-1 div.sk-parallel-item:last-child::after {align-self: flex-start;width: 50%;}#sk-container-id-1 div.sk-parallel-item:only-child::after {width: 0;}#sk-container-id-1 div.sk-dashed-wrapped {border: 1px dashed gray;margin: 0 0.4em 0.5em 0.4em;box-sizing: border-box;padding-bottom: 0.4em;background-color: white;}#sk-container-id-1 div.sk-label label {font-family: monospace;font-weight: bold;display: inline-block;line-height: 1.2em;}#sk-container-id-1 div.sk-label-container {text-align: center;}#sk-container-id-1 div.sk-container {/* jupyter's `normalize.less` sets `[hidden] { display: none; }` but bootstrap.min.css set `[hidden] { display: none !important; }` so we also need the `!important` here to be able to override the default hidden behavior on the sphinx rendered scikit-learn.org. See: https://github.com/scikit-learn/scikit-learn/issues/21755 */display: inline-block !important;position: relative;}#sk-container-id-1 div.sk-text-repr-fallback {display: none;}</style><div id=\"sk-container-id-1\" class=\"sk-top-container\"><div class=\"sk-text-repr-fallback\"><pre>LinearRegression()</pre><b>In a Jupyter environment, please rerun this cell to show the HTML representation or trust the notebook. <br />On GitHub, the HTML representation is unable to render, please try loading this page with nbviewer.org.</b></div><div class=\"sk-container\" hidden><div class=\"sk-item\"><div class=\"sk-estimator sk-toggleable\"><input class=\"sk-toggleable__control sk-hidden--visually\" id=\"sk-estimator-id-1\" type=\"checkbox\" checked><label for=\"sk-estimator-id-1\" class=\"sk-toggleable__label sk-toggleable__label-arrow\">LinearRegression</label><div class=\"sk-toggleable__content\"><pre>LinearRegression()</pre></div></div></div></div></div>"
     },
     "execution_count": 23,
     "metadata": {},
     "output_type": "execute_result"
    }
   ],
   "source": [
    "import pandas as pd\n",
    "from sklearn.linear_model import LinearRegression\n",
    "from sklearn.model_selection import train_test_split\n",
    "from sklearn.datasets import fetch_california_housing\n",
    "\n",
    "housing = fetch_california_housing()\n",
    "X = housing.data\n",
    "y = housing.target\n",
    "\n",
    "# Normalize all of X and y\n",
    "# Place your code in the box below.\n",
    "\n",
    "import sklearn.preprocessing as sk\n",
    "normalized_x,normalized_y=sk.normalize(X.reshape(-1,1)),sk.normalize(y.reshape(-1,1))\n"
   ],
   "metadata": {
    "collapsed": false
   }
  },
  {
   "cell_type": "markdown",
   "source": [
    "Question 7"
   ],
   "metadata": {
    "collapsed": false
   }
  },
  {
   "cell_type": "code",
   "execution_count": 6,
   "outputs": [],
   "source": [
    "import pandas as pd\n",
    "from sklearn.linear_model import LinearRegression\n",
    "from sklearn.model_selection import train_test_split\n",
    "from sklearn.datasets import fetch_california_housing\n",
    "\n",
    "housing = fetch_california_housing()\n",
    "X = housing.data\n",
    "y = housing.target\n",
    "\n",
    "# using the example below for splitting your data into train and test\n",
    "# Choose a random state of 29 and do a 65, 35 split for train and test\n",
    "# X_train, X_test, y_train, y_test = train_test_split(X, y)\n",
    "\n",
    "X_train, X_test, y_train, y_test = train_test_split(X, y,random_state=29,test_size=0.35)"
   ],
   "metadata": {
    "collapsed": false
   }
  },
  {
   "cell_type": "markdown",
   "source": [
    "Question 12"
   ],
   "metadata": {
    "collapsed": false
   }
  },
  {
   "cell_type": "code",
   "execution_count": 7,
   "outputs": [
    {
     "ename": "NameError",
     "evalue": "name 'x_train' is not defined",
     "output_type": "error",
     "traceback": [
      "\u001B[1;31m---------------------------------------------------------------------------\u001B[0m",
      "\u001B[1;31mNameError\u001B[0m                                 Traceback (most recent call last)",
      "Cell \u001B[1;32mIn [7], line 19\u001B[0m\n\u001B[0;32m     10\u001B[0m \u001B[38;5;66;03m# The data in the variables X & y are valid and contain only valid data\u001B[39;00m\n\u001B[0;32m     11\u001B[0m \n\u001B[0;32m     12\u001B[0m \u001B[38;5;66;03m# In the box below:\u001B[39;00m\n\u001B[1;32m   (...)\u001B[0m\n\u001B[0;32m     16\u001B[0m \u001B[38;5;66;03m# 4. Calculate your mean squared error (MSE) manually\u001B[39;00m\n\u001B[0;32m     17\u001B[0m \u001B[38;5;66;03m# Do not use the any library imports for calculating your MSE\u001B[39;00m\n\u001B[0;32m     18\u001B[0m Lin\u001B[38;5;241m=\u001B[39mLinearRegression()\n\u001B[1;32m---> 19\u001B[0m Lin\u001B[38;5;241m.\u001B[39mfit(\u001B[43mx_train\u001B[49m,y_train)\n\u001B[0;32m     20\u001B[0m yhat\u001B[38;5;241m=\u001B[39mLin\u001B[38;5;241m.\u001B[39mpredict(x_test)\n\u001B[0;32m     21\u001B[0m MSE\u001B[38;5;241m=\u001B[39mnumpy\u001B[38;5;241m.\u001B[39msqrt(\u001B[38;5;28msum\u001B[39m((y_test\u001B[38;5;241m-\u001B[39myhat)\u001B[38;5;241m*\u001B[39m\u001B[38;5;241m*\u001B[39m\u001B[38;5;241m2\u001B[39m))\n",
      "\u001B[1;31mNameError\u001B[0m: name 'x_train' is not defined"
     ]
    }
   ],
   "source": [
    "import pandas as pd\n",
    "from sklearn.linear_model import LinearRegression\n",
    "from sklearn.model_selection import train_test_split\n",
    "from sklearn.datasets import fetch_california_housing\n",
    "\n",
    "housing = fetch_california_housing()\n",
    "X = housing.data\n",
    "y = housing.target\n",
    "X_train, X_test, y_train, y_test = train_test_split(X, y, random_state = 0)\n",
    "# The data in the variables X & y are valid and contain only valid data\n",
    "\n",
    "# In the box below:\n",
    "# 1. Create a linear model\n",
    "# 2. Train the linear model using X_train & y_train\n",
    "# 3. Predict values using X_test called yhat_test\n",
    "# 4. Calculate your mean squared error (MSE) manually\n",
    "# Do not use the any library imports for calculating your MSE\n",
    "Lin=LinearRegression()\n",
    "Lin.fit(X_train,y_train)\n",
    "yhat=Lin.predict(X_test)\n",
    "MSE=numpy.sqrt(sum((y_test-yhat)**2))"
   ],
   "metadata": {
    "collapsed": false
   }
  },
  {
   "cell_type": "markdown",
   "source": [
    "Question 14"
   ],
   "metadata": {
    "collapsed": false
   }
  },
  {
   "cell_type": "code",
   "execution_count": null,
   "outputs": [],
   "source": [],
   "metadata": {
    "collapsed": false
   }
  }
 ],
 "metadata": {
  "kernelspec": {
   "display_name": "Python 3",
   "language": "python",
   "name": "python3"
  },
  "language_info": {
   "codemirror_mode": {
    "name": "ipython",
    "version": 2
   },
   "file_extension": ".py",
   "mimetype": "text/x-python",
   "name": "python",
   "nbconvert_exporter": "python",
   "pygments_lexer": "ipython2",
   "version": "2.7.6"
  }
 },
 "nbformat": 4,
 "nbformat_minor": 0
}
