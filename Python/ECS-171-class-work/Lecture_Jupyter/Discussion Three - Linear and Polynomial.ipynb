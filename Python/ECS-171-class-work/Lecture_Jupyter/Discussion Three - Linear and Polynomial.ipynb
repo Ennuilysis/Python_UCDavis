{
 "cells": [
  {
   "cell_type": "markdown",
   "id": "5a9bbbb3",
   "metadata": {
    "id": "5a9bbbb3"
   },
   "source": [
    "# Discussion_10/1 - Polynomial Regression, Regularization"
   ]
  },
  {
   "cell_type": "markdown",
   "id": "61e047fa",
   "metadata": {
    "id": "61e047fa"
   },
   "source": [
    "In this discussion, we will be using [the Wine Dataset from UCI](https://archive.ics.uci.edu/ml/datasets/wine). <br >\n",
    "The data is the results of a chemical analysis of wines grown in the same region in Italy. <br >\n",
    "There are 13 different measurements taken from 3 types of wines(cultivators/grapevines).\n",
    "\n",
    "We will use this dataset to build a simple polynomial regression model involving regularization. <br >\n"
   ]
  },
  {
   "cell_type": "markdown",
   "id": "fee9bbb7",
   "metadata": {
    "id": "fee9bbb7"
   },
   "source": [
    "### Goals\n",
    "\n",
    "- Polynomial Regression\n",
    "- Overfitting and Underfitting\n",
    "- Regularization (Ridge, Lasso)\n",
    "\n",
    "Presented by : Bharath Kinnal"
   ]
  },
  {
   "cell_type": "markdown",
   "id": "f706e75b",
   "metadata": {
    "id": "f706e75b"
   },
   "source": [
    "## About the Dataset \n",
    "\n",
    "Use Pandas to import the data. Once data is imported, address the following issues :\n",
    "\n",
    " - Is this attribute numerical, categorical, or binary?\n",
    " - How is this attribute distributed? \n",
    " - What are the relationships between the data attributes?\n",
    " - Which attribute could be used as the dependent variable? Which could be the independent variables?\n",
    " - Are there any outliers in observations?"
   ]
  },
  {
   "cell_type": "code",
   "execution_count": 2,
   "id": "fe2ded54",
   "metadata": {
    "id": "fe2ded54"
   },
   "outputs": [],
   "source": [
    "import pandas as pd\n",
    "from sklearn.datasets import load_wine\n",
    "\n",
    "df, _ = load_wine(return_X_y=True, as_frame=True) \n",
    "\n",
    "# If you are reading from a local file\n",
    "# df = pd.read_csv('./wine.csv')"
   ]
  },
  {
   "cell_type": "code",
   "execution_count": null,
   "id": "8bfe07b6",
   "metadata": {
    "id": "8bfe07b6",
    "outputId": "bc8ad07e-7bb7-4165-bca0-29590adf39f4",
    "colab": {
     "base_uri": "https://localhost:8080/",
     "height": 427
    }
   },
   "outputs": [
    {
     "output_type": "execute_result",
     "data": {
      "text/plain": [
       "   alcohol  malic_acid   ash  alcalinity_of_ash  magnesium  total_phenols  \\\n",
       "0    14.23        1.71  2.43               15.6      127.0           2.80   \n",
       "1    13.20        1.78  2.14               11.2      100.0           2.65   \n",
       "2    13.16        2.36  2.67               18.6      101.0           2.80   \n",
       "3    14.37        1.95  2.50               16.8      113.0           3.85   \n",
       "4    13.24        2.59  2.87               21.0      118.0           2.80   \n",
       "5    14.20        1.76  2.45               15.2      112.0           3.27   \n",
       "6    14.39        1.87  2.45               14.6       96.0           2.50   \n",
       "7    14.06        2.15  2.61               17.6      121.0           2.60   \n",
       "8    14.83        1.64  2.17               14.0       97.0           2.80   \n",
       "9    13.86        1.35  2.27               16.0       98.0           2.98   \n",
       "\n",
       "   flavanoids  nonflavanoid_phenols  proanthocyanins  color_intensity   hue  \\\n",
       "0        3.06                  0.28             2.29             5.64  1.04   \n",
       "1        2.76                  0.26             1.28             4.38  1.05   \n",
       "2        3.24                  0.30             2.81             5.68  1.03   \n",
       "3        3.49                  0.24             2.18             7.80  0.86   \n",
       "4        2.69                  0.39             1.82             4.32  1.04   \n",
       "5        3.39                  0.34             1.97             6.75  1.05   \n",
       "6        2.52                  0.30             1.98             5.25  1.02   \n",
       "7        2.51                  0.31             1.25             5.05  1.06   \n",
       "8        2.98                  0.29             1.98             5.20  1.08   \n",
       "9        3.15                  0.22             1.85             7.22  1.01   \n",
       "\n",
       "   od280/od315_of_diluted_wines  proline  \n",
       "0                          3.92   1065.0  \n",
       "1                          3.40   1050.0  \n",
       "2                          3.17   1185.0  \n",
       "3                          3.45   1480.0  \n",
       "4                          2.93    735.0  \n",
       "5                          2.85   1450.0  \n",
       "6                          3.58   1290.0  \n",
       "7                          3.58   1295.0  \n",
       "8                          2.85   1045.0  \n",
       "9                          3.55   1045.0  "
      ],
      "text/html": [
       "\n",
       "  <div id=\"df-d89bf1a7-baff-4922-b0a0-907871daf011\">\n",
       "    <div class=\"colab-df-container\">\n",
       "      <div>\n",
       "<style scoped>\n",
       "    .dataframe tbody tr th:only-of-type {\n",
       "        vertical-align: middle;\n",
       "    }\n",
       "\n",
       "    .dataframe tbody tr th {\n",
       "        vertical-align: top;\n",
       "    }\n",
       "\n",
       "    .dataframe thead th {\n",
       "        text-align: right;\n",
       "    }\n",
       "</style>\n",
       "<table border=\"1\" class=\"dataframe\">\n",
       "  <thead>\n",
       "    <tr style=\"text-align: right;\">\n",
       "      <th></th>\n",
       "      <th>alcohol</th>\n",
       "      <th>malic_acid</th>\n",
       "      <th>ash</th>\n",
       "      <th>alcalinity_of_ash</th>\n",
       "      <th>magnesium</th>\n",
       "      <th>total_phenols</th>\n",
       "      <th>flavanoids</th>\n",
       "      <th>nonflavanoid_phenols</th>\n",
       "      <th>proanthocyanins</th>\n",
       "      <th>color_intensity</th>\n",
       "      <th>hue</th>\n",
       "      <th>od280/od315_of_diluted_wines</th>\n",
       "      <th>proline</th>\n",
       "    </tr>\n",
       "  </thead>\n",
       "  <tbody>\n",
       "    <tr>\n",
       "      <th>0</th>\n",
       "      <td>14.23</td>\n",
       "      <td>1.71</td>\n",
       "      <td>2.43</td>\n",
       "      <td>15.6</td>\n",
       "      <td>127.0</td>\n",
       "      <td>2.80</td>\n",
       "      <td>3.06</td>\n",
       "      <td>0.28</td>\n",
       "      <td>2.29</td>\n",
       "      <td>5.64</td>\n",
       "      <td>1.04</td>\n",
       "      <td>3.92</td>\n",
       "      <td>1065.0</td>\n",
       "    </tr>\n",
       "    <tr>\n",
       "      <th>1</th>\n",
       "      <td>13.20</td>\n",
       "      <td>1.78</td>\n",
       "      <td>2.14</td>\n",
       "      <td>11.2</td>\n",
       "      <td>100.0</td>\n",
       "      <td>2.65</td>\n",
       "      <td>2.76</td>\n",
       "      <td>0.26</td>\n",
       "      <td>1.28</td>\n",
       "      <td>4.38</td>\n",
       "      <td>1.05</td>\n",
       "      <td>3.40</td>\n",
       "      <td>1050.0</td>\n",
       "    </tr>\n",
       "    <tr>\n",
       "      <th>2</th>\n",
       "      <td>13.16</td>\n",
       "      <td>2.36</td>\n",
       "      <td>2.67</td>\n",
       "      <td>18.6</td>\n",
       "      <td>101.0</td>\n",
       "      <td>2.80</td>\n",
       "      <td>3.24</td>\n",
       "      <td>0.30</td>\n",
       "      <td>2.81</td>\n",
       "      <td>5.68</td>\n",
       "      <td>1.03</td>\n",
       "      <td>3.17</td>\n",
       "      <td>1185.0</td>\n",
       "    </tr>\n",
       "    <tr>\n",
       "      <th>3</th>\n",
       "      <td>14.37</td>\n",
       "      <td>1.95</td>\n",
       "      <td>2.50</td>\n",
       "      <td>16.8</td>\n",
       "      <td>113.0</td>\n",
       "      <td>3.85</td>\n",
       "      <td>3.49</td>\n",
       "      <td>0.24</td>\n",
       "      <td>2.18</td>\n",
       "      <td>7.80</td>\n",
       "      <td>0.86</td>\n",
       "      <td>3.45</td>\n",
       "      <td>1480.0</td>\n",
       "    </tr>\n",
       "    <tr>\n",
       "      <th>4</th>\n",
       "      <td>13.24</td>\n",
       "      <td>2.59</td>\n",
       "      <td>2.87</td>\n",
       "      <td>21.0</td>\n",
       "      <td>118.0</td>\n",
       "      <td>2.80</td>\n",
       "      <td>2.69</td>\n",
       "      <td>0.39</td>\n",
       "      <td>1.82</td>\n",
       "      <td>4.32</td>\n",
       "      <td>1.04</td>\n",
       "      <td>2.93</td>\n",
       "      <td>735.0</td>\n",
       "    </tr>\n",
       "    <tr>\n",
       "      <th>5</th>\n",
       "      <td>14.20</td>\n",
       "      <td>1.76</td>\n",
       "      <td>2.45</td>\n",
       "      <td>15.2</td>\n",
       "      <td>112.0</td>\n",
       "      <td>3.27</td>\n",
       "      <td>3.39</td>\n",
       "      <td>0.34</td>\n",
       "      <td>1.97</td>\n",
       "      <td>6.75</td>\n",
       "      <td>1.05</td>\n",
       "      <td>2.85</td>\n",
       "      <td>1450.0</td>\n",
       "    </tr>\n",
       "    <tr>\n",
       "      <th>6</th>\n",
       "      <td>14.39</td>\n",
       "      <td>1.87</td>\n",
       "      <td>2.45</td>\n",
       "      <td>14.6</td>\n",
       "      <td>96.0</td>\n",
       "      <td>2.50</td>\n",
       "      <td>2.52</td>\n",
       "      <td>0.30</td>\n",
       "      <td>1.98</td>\n",
       "      <td>5.25</td>\n",
       "      <td>1.02</td>\n",
       "      <td>3.58</td>\n",
       "      <td>1290.0</td>\n",
       "    </tr>\n",
       "    <tr>\n",
       "      <th>7</th>\n",
       "      <td>14.06</td>\n",
       "      <td>2.15</td>\n",
       "      <td>2.61</td>\n",
       "      <td>17.6</td>\n",
       "      <td>121.0</td>\n",
       "      <td>2.60</td>\n",
       "      <td>2.51</td>\n",
       "      <td>0.31</td>\n",
       "      <td>1.25</td>\n",
       "      <td>5.05</td>\n",
       "      <td>1.06</td>\n",
       "      <td>3.58</td>\n",
       "      <td>1295.0</td>\n",
       "    </tr>\n",
       "    <tr>\n",
       "      <th>8</th>\n",
       "      <td>14.83</td>\n",
       "      <td>1.64</td>\n",
       "      <td>2.17</td>\n",
       "      <td>14.0</td>\n",
       "      <td>97.0</td>\n",
       "      <td>2.80</td>\n",
       "      <td>2.98</td>\n",
       "      <td>0.29</td>\n",
       "      <td>1.98</td>\n",
       "      <td>5.20</td>\n",
       "      <td>1.08</td>\n",
       "      <td>2.85</td>\n",
       "      <td>1045.0</td>\n",
       "    </tr>\n",
       "    <tr>\n",
       "      <th>9</th>\n",
       "      <td>13.86</td>\n",
       "      <td>1.35</td>\n",
       "      <td>2.27</td>\n",
       "      <td>16.0</td>\n",
       "      <td>98.0</td>\n",
       "      <td>2.98</td>\n",
       "      <td>3.15</td>\n",
       "      <td>0.22</td>\n",
       "      <td>1.85</td>\n",
       "      <td>7.22</td>\n",
       "      <td>1.01</td>\n",
       "      <td>3.55</td>\n",
       "      <td>1045.0</td>\n",
       "    </tr>\n",
       "  </tbody>\n",
       "</table>\n",
       "</div>\n",
       "      <button class=\"colab-df-convert\" onclick=\"convertToInteractive('df-d89bf1a7-baff-4922-b0a0-907871daf011')\"\n",
       "              title=\"Convert this dataframe to an interactive table.\"\n",
       "              style=\"display:none;\">\n",
       "        \n",
       "  <svg xmlns=\"http://www.w3.org/2000/svg\" height=\"24px\"viewBox=\"0 0 24 24\"\n",
       "       width=\"24px\">\n",
       "    <path d=\"M0 0h24v24H0V0z\" fill=\"none\"/>\n",
       "    <path d=\"M18.56 5.44l.94 2.06.94-2.06 2.06-.94-2.06-.94-.94-2.06-.94 2.06-2.06.94zm-11 1L8.5 8.5l.94-2.06 2.06-.94-2.06-.94L8.5 2.5l-.94 2.06-2.06.94zm10 10l.94 2.06.94-2.06 2.06-.94-2.06-.94-.94-2.06-.94 2.06-2.06.94z\"/><path d=\"M17.41 7.96l-1.37-1.37c-.4-.4-.92-.59-1.43-.59-.52 0-1.04.2-1.43.59L10.3 9.45l-7.72 7.72c-.78.78-.78 2.05 0 2.83L4 21.41c.39.39.9.59 1.41.59.51 0 1.02-.2 1.41-.59l7.78-7.78 2.81-2.81c.8-.78.8-2.07 0-2.86zM5.41 20L4 18.59l7.72-7.72 1.47 1.35L5.41 20z\"/>\n",
       "  </svg>\n",
       "      </button>\n",
       "      \n",
       "  <style>\n",
       "    .colab-df-container {\n",
       "      display:flex;\n",
       "      flex-wrap:wrap;\n",
       "      gap: 12px;\n",
       "    }\n",
       "\n",
       "    .colab-df-convert {\n",
       "      background-color: #E8F0FE;\n",
       "      border: none;\n",
       "      border-radius: 50%;\n",
       "      cursor: pointer;\n",
       "      display: none;\n",
       "      fill: #1967D2;\n",
       "      height: 32px;\n",
       "      padding: 0 0 0 0;\n",
       "      width: 32px;\n",
       "    }\n",
       "\n",
       "    .colab-df-convert:hover {\n",
       "      background-color: #E2EBFA;\n",
       "      box-shadow: 0px 1px 2px rgba(60, 64, 67, 0.3), 0px 1px 3px 1px rgba(60, 64, 67, 0.15);\n",
       "      fill: #174EA6;\n",
       "    }\n",
       "\n",
       "    [theme=dark] .colab-df-convert {\n",
       "      background-color: #3B4455;\n",
       "      fill: #D2E3FC;\n",
       "    }\n",
       "\n",
       "    [theme=dark] .colab-df-convert:hover {\n",
       "      background-color: #434B5C;\n",
       "      box-shadow: 0px 1px 3px 1px rgba(0, 0, 0, 0.15);\n",
       "      filter: drop-shadow(0px 1px 2px rgba(0, 0, 0, 0.3));\n",
       "      fill: #FFFFFF;\n",
       "    }\n",
       "  </style>\n",
       "\n",
       "      <script>\n",
       "        const buttonEl =\n",
       "          document.querySelector('#df-d89bf1a7-baff-4922-b0a0-907871daf011 button.colab-df-convert');\n",
       "        buttonEl.style.display =\n",
       "          google.colab.kernel.accessAllowed ? 'block' : 'none';\n",
       "\n",
       "        async function convertToInteractive(key) {\n",
       "          const element = document.querySelector('#df-d89bf1a7-baff-4922-b0a0-907871daf011');\n",
       "          const dataTable =\n",
       "            await google.colab.kernel.invokeFunction('convertToInteractive',\n",
       "                                                     [key], {});\n",
       "          if (!dataTable) return;\n",
       "\n",
       "          const docLinkHtml = 'Like what you see? Visit the ' +\n",
       "            '<a target=\"_blank\" href=https://colab.research.google.com/notebooks/data_table.ipynb>data table notebook</a>'\n",
       "            + ' to learn more about interactive tables.';\n",
       "          element.innerHTML = '';\n",
       "          dataTable['output_type'] = 'display_data';\n",
       "          await google.colab.output.renderOutput(dataTable, element);\n",
       "          const docLink = document.createElement('div');\n",
       "          docLink.innerHTML = docLinkHtml;\n",
       "          element.appendChild(docLink);\n",
       "        }\n",
       "      </script>\n",
       "    </div>\n",
       "  </div>\n",
       "  "
      ]
     },
     "metadata": {},
     "execution_count": 2
    }
   ],
   "source": [
    "df.head(10)"
   ]
  },
  {
   "cell_type": "markdown",
   "id": "ccc60f02",
   "metadata": {
    "id": "ccc60f02"
   },
   "source": [
    "## Polynomial Regression\n",
    "\n",
    "In this section, we will go through a polynomial regression example to show demonstrate underfitting and overfitting, and how to prevent overfitting with regularization.\n",
    "\n",
    "Below, we can see that the data does not share a linear relationship.\n"
   ]
  },
  {
   "cell_type": "code",
   "execution_count": 3,
   "id": "f7d13623",
   "metadata": {
    "id": "f7d13623",
    "outputId": "6f69046f-a8db-4959-ad11-1495f02b335b",
    "colab": {
     "base_uri": "https://localhost:8080/",
     "height": 442
    }
   },
   "outputs": [
    {
     "output_type": "display_data",
     "data": {
      "text/plain": [
       "<Figure size 504x504 with 1 Axes>"
      ],
      "image/png": "[encoded data removed]"
     },
     "metadata": {
      "needs_background": "light"
     }
    }
   ],
   "source": [
    "import numpy as np\n",
    "\n",
    "# You can try different number of data points\n",
    "df_p = df.sample(20, random_state=21).sort_values(by=['flavanoids'])\n",
    "X = np.asarray(df_p['flavanoids'])\n",
    "y = np.asarray(df_p['proline'])\n",
    "\n",
    "_ = df_p.plot.scatter(x='flavanoids', y='proline', figsize=(7,7), grid=False)"
   ]
  },
  {
   "cell_type": "markdown",
   "id": "c3dce99d",
   "metadata": {
    "id": "c3dce99d"
   },
   "source": [
    "### Underfitting\n",
    "\n",
    "Underfitting occurs when a statistical model cannot adequately capture the underlying structure of the data.\n",
    "\n",
    "It is trivial to see that a **simple linear regression** model would cause the underfitting problem."
   ]
  },
  {
   "cell_type": "code",
   "execution_count": 4,
   "id": "09ce6dd8",
   "metadata": {
    "id": "09ce6dd8",
    "outputId": "e55e3636-7c63-4154-c45e-3d43a2489bbc",
    "colab": {
     "base_uri": "https://localhost:8080/",
     "height": 685
    }
   },
   "outputs": [
    {
     "output_type": "stream",
     "name": "stderr",
     "text": [
      "/usr/local/lib/python3.7/dist-packages/sklearn/linear_model/_base.py:145: FutureWarning: 'normalize' was deprecated in version 1.0 and will be removed in 1.2.\n",
      "If you wish to scale the data, use Pipeline with a StandardScaler in a preprocessing stage. To reproduce the previous behavior:\n",
      "\n",
      "from sklearn.pipeline import make_pipeline\n",
      "\n",
      "model = make_pipeline(StandardScaler(with_mean=False), LinearRegression())\n",
      "\n",
      "If you wish to pass a sample_weight parameter, you need to pass it as a fit parameter to each step of the pipeline as follows:\n",
      "\n",
      "kwargs = {s[0] + '__sample_weight': sample_weight for s in model.steps}\n",
      "model.fit(X, y, **kwargs)\n",
      "\n",
      "\n",
      "  FutureWarning,\n"
     ]
    },
    {
     "output_type": "display_data",
     "data": {
      "text/plain": [
       "<Figure size 504x504 with 1 Axes>"
      ],
      "image/png": "[encoded data removed]"
     },
     "metadata": {
      "needs_background": "light"
     }
    }
   ],
   "source": [
    "from sklearn.linear_model import LinearRegression \n",
    "from sklearn.metrics import mean_squared_error, r2_score\n",
    "import matplotlib.pyplot as plt\n",
    "\n",
    "mp = LinearRegression(normalize = True)\n",
    "mp.fit(np.asarray(X).reshape(-1, 1), np.asarray(y).reshape(-1, 1))\n",
    "\n",
    "plt.figure(figsize=(7,7))\n",
    "plt.scatter(X, y, color='k', alpha=.5)\n",
    "plt.plot(np.sort(X), mp.predict(np.asarray(X).reshape(-1,1)), color='tab:blue', alpha=.5)\n",
    "\n",
    "plt.xlabel(\"Flavanoids\")\n",
    "plt.ylabel(\"Proline\")\n",
    "plt.legend(['Simple Linear Regression', 'Training Data'])\n",
    "\n",
    "plt.show()"
   ]
  },
  {
   "cell_type": "markdown",
   "id": "4b10f140",
   "metadata": {
    "id": "4b10f140"
   },
   "source": [
    "### Polynomial Regression\n",
    "\n",
    "Polynomial Regression considers the relationship between dependent variable $y$ and the $D$th degree polynomial of an independent variable $x$. \n",
    "\n",
    "$$y = \\beta_{0} + \\beta_{1}x + \\beta_{2}x^2 + \\beta_{3}x^3 + \\cdots + \\beta_{D}x^D$$\n",
    "\n",
    "$$y = \\sum_{d=0}^{D} (\\beta_{d} x^d)$$\n",
    "\n",
    "If we want to generate a regression model with 2 inputs ($x_1$ and $x_2$), then the relationship generated will be :\n",
    "\n",
    "$$y = \\sum_{i=0}^{D}\\sum_{j=0}^{D} (\\beta_{ij} x_1^i x_2^j)$$\n",
    "\n",
    "One way to implement polynomial regression is to utilize `PolynomialFeatures()` from scikit-learn."
   ]
  },
  {
   "cell_type": "code",
   "execution_count": null,
   "id": "b45f5976",
   "metadata": {
    "id": "b45f5976",
    "outputId": "876c2d99-de46-40e5-e938-aa78c9c412e9"
   },
   "outputs": [
    {
     "data": {
      "text/html": [
       "<div>\n",
       "<style scoped>\n",
       "    .dataframe tbody tr th:only-of-type {\n",
       "        vertical-align: middle;\n",
       "    }\n",
       "\n",
       "    .dataframe tbody tr th {\n",
       "        vertical-align: top;\n",
       "    }\n",
       "\n",
       "    .dataframe thead th {\n",
       "        text-align: right;\n",
       "    }\n",
       "</style>\n",
       "<table border=\"1\" class=\"dataframe\">\n",
       "  <thead>\n",
       "    <tr style=\"text-align: right;\">\n",
       "      <th></th>\n",
       "      <th>x1</th>\n",
       "      <th>x2</th>\n",
       "      <th>x3</th>\n",
       "      <th>x4</th>\n",
       "      <th>x5</th>\n",
       "    </tr>\n",
       "  </thead>\n",
       "  <tbody>\n",
       "    <tr>\n",
       "      <th>0</th>\n",
       "      <td>0.0</td>\n",
       "      <td>0.0</td>\n",
       "      <td>0.0</td>\n",
       "      <td>0.0</td>\n",
       "      <td>0.0</td>\n",
       "    </tr>\n",
       "    <tr>\n",
       "      <th>1</th>\n",
       "      <td>1.0</td>\n",
       "      <td>1.0</td>\n",
       "      <td>1.0</td>\n",
       "      <td>1.0</td>\n",
       "      <td>1.0</td>\n",
       "    </tr>\n",
       "    <tr>\n",
       "      <th>2</th>\n",
       "      <td>2.0</td>\n",
       "      <td>4.0</td>\n",
       "      <td>8.0</td>\n",
       "      <td>16.0</td>\n",
       "      <td>32.0</td>\n",
       "    </tr>\n",
       "    <tr>\n",
       "      <th>3</th>\n",
       "      <td>3.0</td>\n",
       "      <td>9.0</td>\n",
       "      <td>27.0</td>\n",
       "      <td>81.0</td>\n",
       "      <td>243.0</td>\n",
       "    </tr>\n",
       "    <tr>\n",
       "      <th>4</th>\n",
       "      <td>4.0</td>\n",
       "      <td>16.0</td>\n",
       "      <td>64.0</td>\n",
       "      <td>256.0</td>\n",
       "      <td>1024.0</td>\n",
       "    </tr>\n",
       "  </tbody>\n",
       "</table>\n",
       "</div>"
      ],
      "text/plain": [
       "    x1    x2    x3     x4      x5\n",
       "0  0.0   0.0   0.0    0.0     0.0\n",
       "1  1.0   1.0   1.0    1.0     1.0\n",
       "2  2.0   4.0   8.0   16.0    32.0\n",
       "3  3.0   9.0  27.0   81.0   243.0\n",
       "4  4.0  16.0  64.0  256.0  1024.0"
      ]
     },
     "execution_count": 14,
     "metadata": {},
     "output_type": "execute_result"
    }
   ],
   "source": [
    "from sklearn.preprocessing import PolynomialFeatures\n",
    "\n",
    "deg = 5\n",
    "\n",
    "poly = PolynomialFeatures(degree=deg, include_bias=False)\n",
    "demo = poly.fit_transform(np.arange(5).reshape(-1, 1))# [0, 1, 2, 3, 4]\n",
    "pd.DataFrame(demo, columns=[f'x{d+1}' for d in range(deg)])"
   ]
  },
  {
   "cell_type": "code",
   "execution_count": null,
   "id": "ce109289",
   "metadata": {
    "id": "ce109289",
    "outputId": "e5e5d76f-1c01-4cda-b435-75af85dd9e6e"
   },
   "outputs": [
    {
     "data": {
      "text/html": [
       "<style  type=\"text/css\" >\n",
       "</style><table id=\"T_535b8_\" ><thead>    <tr>        <th class=\"blank level0\" ></th>        <th class=\"col_heading level0 col0\" >b0</th>        <th class=\"col_heading level0 col1\" >b1</th>        <th class=\"col_heading level0 col2\" >b2</th>        <th class=\"col_heading level0 col3\" >b3</th>    </tr></thead><tbody>\n",
       "                <tr>\n",
       "                        <th id=\"T_535b8_level0_row0\" class=\"row_heading level0 row0\" >0</th>\n",
       "                        <td id=\"T_535b8_row0_col0\" class=\"data row0 col0\" >1,062.0569920940</td>\n",
       "                        <td id=\"T_535b8_row0_col1\" class=\"data row0 col1\" >-889.2348347953</td>\n",
       "                        <td id=\"T_535b8_row0_col2\" class=\"data row0 col2\" >402.8506334537</td>\n",
       "                        <td id=\"T_535b8_row0_col3\" class=\"data row0 col3\" >-41.1058250497</td>\n",
       "            </tr>\n",
       "    </tbody></table>"
      ],
      "text/plain": [
       "<pandas.io.formats.style.Styler at 0x7fbf0e0559a0>"
      ]
     },
     "metadata": {},
     "output_type": "display_data"
    },
    {
     "data": {
      "image/png": "[encoded data removed]",
      "text/plain": [
       "<Figure size 504x504 with 1 Axes>"
      ]
     },
     "metadata": {
      "needs_background": "light"
     },
     "output_type": "display_data"
    }
   ],
   "source": [
    "from sklearn.linear_model import LinearRegression\n",
    "from IPython.display import display\n",
    "\n",
    "def PolynomialRegression(X, y, deg=2, figsize=7):\n",
    "    poly = PolynomialFeatures(degree=deg, include_bias=False)\n",
    "    X_poly = poly.fit_transform(X.reshape(-1, 1))\n",
    "    \n",
    "    # This exactly implements the above formula\n",
    "    polyReg = LinearRegression().fit(X_poly, y.reshape(-1, 1)) \n",
    "    \n",
    "    # Printing Coefficients\n",
    "    coef = pd.DataFrame(polyReg.coef_, columns=[f'b{i+1}' for i in range(deg)])\n",
    "    coef.insert(loc=0, column='b0', value=polyReg.intercept_)\n",
    "    coef = coef.style.format(\"{:10,.10f}\") # Comment this out to not suppressing the scientific notation\n",
    "    display(coef)\n",
    "    \n",
    "    #### Plotting ####\n",
    "    plt.figure(figsize=(figsize, figsize))\n",
    "    plt.scatter(X, y, color='k', alpha=.5)\n",
    "    plt.plot(X, polyReg.predict(X_poly), color='tab:blue', alpha=.5)\n",
    "\n",
    "    plt.xlabel(\"Flavanoids\")\n",
    "    plt.ylabel(\"Proline\")\n",
    "    plt.legend([f'Degree-{deg} Polynomial Regression', 'Training data'])\n",
    "    plt.show()\n",
    "    \n",
    "PolynomialRegression(X, y, deg=3)"
   ]
  },
  {
   "cell_type": "markdown",
   "id": "20314301",
   "metadata": {
    "id": "20314301"
   },
   "source": [
    "### Overfitting\n",
    "\n",
    "Overfitting occurs when the model updates the parameters such that it corresponds too closely or exactly to training data. In this case, the performance of the model on the training dataset is significantly better than the performance on the test dataset.\n",
    "\n",
    "![Fitting](./fitting.png)"
   ]
  },
  {
   "cell_type": "markdown",
   "id": "043b53fe",
   "metadata": {
    "id": "043b53fe"
   },
   "source": [
    "A couple of signs that you might have an overfitting problem:\n",
    " - The number of parameters in your model is close to the number of your training data points.\n",
    " - The testing error suddently increases A LOT when the training error decreases over epochs.\n",
    " - The values of parameters become unreasonably large compared to the scale in your data."
   ]
  },
  {
   "cell_type": "code",
   "execution_count": null,
   "id": "cb9772a5",
   "metadata": {
    "id": "cb9772a5",
    "outputId": "d611f99e-d0f0-426d-e17e-fd3eba6da57c"
   },
   "outputs": [
    {
     "data": {
      "text/html": [
       "<style  type=\"text/css\" >\n",
       "</style><table id=\"T_e8470_\" ><thead>    <tr>        <th class=\"blank level0\" ></th>        <th class=\"col_heading level0 col0\" >b0</th>        <th class=\"col_heading level0 col1\" >b1</th>        <th class=\"col_heading level0 col2\" >b2</th>        <th class=\"col_heading level0 col3\" >b3</th>        <th class=\"col_heading level0 col4\" >b4</th>        <th class=\"col_heading level0 col5\" >b5</th>        <th class=\"col_heading level0 col6\" >b6</th>        <th class=\"col_heading level0 col7\" >b7</th>        <th class=\"col_heading level0 col8\" >b8</th>        <th class=\"col_heading level0 col9\" >b9</th>        <th class=\"col_heading level0 col10\" >b10</th>        <th class=\"col_heading level0 col11\" >b11</th>        <th class=\"col_heading level0 col12\" >b12</th>        <th class=\"col_heading level0 col13\" >b13</th>        <th class=\"col_heading level0 col14\" >b14</th>        <th class=\"col_heading level0 col15\" >b15</th>    </tr></thead><tbody>\n",
       "                <tr>\n",
       "                        <th id=\"T_e8470_level0_row0\" class=\"row_heading level0 row0\" >0</th>\n",
       "                        <td id=\"T_e8470_row0_col0\" class=\"data row0 col0\" >-1,418,020.6955855465</td>\n",
       "                        <td id=\"T_e8470_row0_col1\" class=\"data row0 col1\" >13,144,394.2604752891</td>\n",
       "                        <td id=\"T_e8470_row0_col2\" class=\"data row0 col2\" >-51,853,750.2267412022</td>\n",
       "                        <td id=\"T_e8470_row0_col3\" class=\"data row0 col3\" >111,840,491.5501288921</td>\n",
       "                        <td id=\"T_e8470_row0_col4\" class=\"data row0 col4\" >-135,944,605.3706208467</td>\n",
       "                        <td id=\"T_e8470_row0_col5\" class=\"data row0 col5\" >69,432,002.8305195719</td>\n",
       "                        <td id=\"T_e8470_row0_col6\" class=\"data row0 col6\" >52,079,967.0193443820</td>\n",
       "                        <td id=\"T_e8470_row0_col7\" class=\"data row0 col7\" >-132,079,418.2740607113</td>\n",
       "                        <td id=\"T_e8470_row0_col8\" class=\"data row0 col8\" >127,428,075.7588890344</td>\n",
       "                        <td id=\"T_e8470_row0_col9\" class=\"data row0 col9\" >-76,707,441.8810271323</td>\n",
       "                        <td id=\"T_e8470_row0_col10\" class=\"data row0 col10\" >31,567,541.3393419906</td>\n",
       "                        <td id=\"T_e8470_row0_col11\" class=\"data row0 col11\" >-9,067,385.0189153217</td>\n",
       "                        <td id=\"T_e8470_row0_col12\" class=\"data row0 col12\" >1,795,086.9003123313</td>\n",
       "                        <td id=\"T_e8470_row0_col13\" class=\"data row0 col13\" >-234,017.4800942859</td>\n",
       "                        <td id=\"T_e8470_row0_col14\" class=\"data row0 col14\" >18,107.9545674407</td>\n",
       "                        <td id=\"T_e8470_row0_col15\" class=\"data row0 col15\" >-630.5656971470</td>\n",
       "            </tr>\n",
       "    </tbody></table>"
      ],
      "text/plain": [
       "<pandas.io.formats.style.Styler at 0x7fbf0e162d00>"
      ]
     },
     "metadata": {},
     "output_type": "display_data"
    },
    {
     "data": {
      "image/png": "[encoded data removed]",
      "text/plain": [
       "<Figure size 504x504 with 1 Axes>"
      ]
     },
     "metadata": {
      "needs_background": "light"
     },
     "output_type": "display_data"
    }
   ],
   "source": [
    "PolynomialRegression(X, y, deg=15)"
   ]
  },
  {
   "cell_type": "markdown",
   "id": "9d5eb0f5",
   "metadata": {
    "id": "9d5eb0f5"
   },
   "source": [
    "## Ordinary Least Squares (OLS) method\n",
    "\n",
    "Given the polynomial regression function of degree $D$ : \n",
    "$$\n",
    "\\begin{align*}\n",
    "\\hat{y} &= \\beta_{0} + \\beta_{1} x + \\beta_{2} x^2 + \\beta_{3} x^3 + \\cdots + \\beta_{d} x^D \\\\\n",
    "\\hat{y} &= \\sum_{d=0}^{D} (\\beta_{d} x^d)\n",
    "\\end{align*}\n",
    "$$\n",
    "\n",
    "The cost function for the model at a data point $i$ would be calculated using the **Ordinary Least Squares (OLS) method**, as follows  :\n",
    "\n",
    "$$\n",
    "\\begin{align*}\n",
    "C &= \\sum_{i=1}^{M} (y_i - \\hat{y_i}) \\\\\n",
    "C_i &= \\sum_{i=1}^{M} (y_i - \\sum_{d=0}^{D} (\\beta_{d} x_i^d))\n",
    "\\end{align*}\n",
    "$$"
   ]
  },
  {
   "cell_type": "markdown",
   "id": "811f3cd0",
   "metadata": {
    "id": "811f3cd0"
   },
   "source": [
    "## Regularization\n",
    "Regularization is one way to prevent overfitting. <br >\n",
    "The idea is to penalize the coefficients so that you are discouraged to learn a complex model. <br >\n",
    "To achieve so, we would add a regularization term to the loss function.\n",
    "\n",
    "**l1-regularization** and **l2-regularization** are commonly adopted terms in machine learning, with one more hyperparamter $\\lambda$, known as 'regularization rate'. (Note that it is called *alpha* in scikit-learn.)\n",
    "\n",
    "The two types of regression are also known as **Lasso Regression** and **Ridge Regression** respectively.\n"
   ]
  },
  {
   "cell_type": "markdown",
   "id": "61af4942",
   "metadata": {
    "id": "61af4942"
   },
   "source": [
    "### Lasso-regularization\n",
    "In l1-regularization, the regularization term will be $R_{l1} = \\lambda \\displaystyle \\sum_{d=0}^{D}|\\beta_{d}|$. The updated cost function will be :\n",
    "\n",
    "Its supposed to increase randomness.\n",
    "\n",
    "$$\n",
    "\\begin{align*}\n",
    "C_{l1} &= C + R_{l1} \\\\\n",
    "C_{l1} &= \\sum_{i=1}^{M} (y_i - \\sum_{d=0}^{D} (\\beta_{d} x_i^d)) + \\lambda \\displaystyle \\sum_{d=0}^{D}|\\beta_{d}|\n",
    "\\end{align*}\n",
    "$$\n"
   ]
  },
  {
   "cell_type": "markdown",
   "id": "3ef9ed92",
   "metadata": {
    "id": "3ef9ed92"
   },
   "source": [
    "### Ridge-regularization\n",
    "In l2-regularization, the regularization term will be $R_{l2} = \\lambda \\displaystyle \\sum_{j=0}^{n}\\beta_{j}^2$. The updated cost function will be :\n",
    "\n",
    "\n",
    "$$\n",
    "\\begin{align*}\n",
    "C_{l2} &= C + R_{l2} \\\\\n",
    "C_{l2} &= \\sum_{i=1}^{M} (y_i - \\sum_{d=0}^{D} (\\beta_{id} x_i^d)) + \\lambda \\displaystyle \\sum_{j=0}^{n}\\beta_{j}^2\n",
    "\\end{align*}\n",
    "$$\n",
    "\n",
    "Now let's see how regularization can help prevent overfitting in Polynomial Regression."
   ]
  },
  {
   "cell_type": "code",
   "execution_count": 5,
   "id": "b3ed5aa7",
   "metadata": {
    "id": "b3ed5aa7",
    "outputId": "54b45f17-54c4-48a3-e363-68fbc261be3b",
    "colab": {
     "base_uri": "https://localhost:8080/",
     "height": 658
    }
   },
   "outputs": [
    {
     "output_type": "stream",
     "name": "stderr",
     "text": [
      "/usr/local/lib/python3.7/dist-packages/sklearn/linear_model/_coordinate_descent.py:648: ConvergenceWarning: Objective did not converge. You might want to increase the number of iterations, check the scale of the features or consider increasing regularisation. Duality gap: 2.524e+05, tolerance: 1.524e+02\n",
      "  coef_, l1_reg, l2_reg, X, y, max_iter, tol, rng, random, positive\n",
      "/usr/local/lib/python3.7/dist-packages/sklearn/linear_model/_ridge.py:157: LinAlgWarning: Ill-conditioned matrix (rcond=3.73573e-19): result may not be accurate.\n",
      "  return linalg.solve(A, Xy, sym_pos=True, overwrite_a=True).T\n"
     ]
    },
    {
     "output_type": "display_data",
     "data": {
      "text/plain": [
       "<pandas.io.formats.style.Styler at 0x7f91fd003a50>"
      ],
      "text/html": [
       "<style type=\"text/css\">\n",
       "</style>\n",
       "<table id=\"T_2a598_\" class=\"dataframe\">\n",
       "  <thead>\n",
       "    <tr>\n",
       "      <th class=\"blank level0\" >&nbsp;</th>\n",
       "      <th class=\"col_heading level0 col0\" >b0</th>\n",
       "      <th class=\"col_heading level0 col1\" >b1</th>\n",
       "      <th class=\"col_heading level0 col2\" >b2</th>\n",
       "      <th class=\"col_heading level0 col3\" >b3</th>\n",
       "      <th class=\"col_heading level0 col4\" >b4</th>\n",
       "      <th class=\"col_heading level0 col5\" >b5</th>\n",
       "      <th class=\"col_heading level0 col6\" >b6</th>\n",
       "      <th class=\"col_heading level0 col7\" >b7</th>\n",
       "      <th class=\"col_heading level0 col8\" >b8</th>\n",
       "      <th class=\"col_heading level0 col9\" >b9</th>\n",
       "      <th class=\"col_heading level0 col10\" >b10</th>\n",
       "      <th class=\"col_heading level0 col11\" >b11</th>\n",
       "      <th class=\"col_heading level0 col12\" >b12</th>\n",
       "      <th class=\"col_heading level0 col13\" >b13</th>\n",
       "      <th class=\"col_heading level0 col14\" >b14</th>\n",
       "      <th class=\"col_heading level0 col15\" >b15</th>\n",
       "    </tr>\n",
       "  </thead>\n",
       "  <tbody>\n",
       "    <tr>\n",
       "      <th id=\"T_2a598_level0_row0\" class=\"row_heading level0 row0\" >0</th>\n",
       "      <td id=\"T_2a598_row0_col0\" class=\"data row0 col0\" >-1,414,007.0165695189</td>\n",
       "      <td id=\"T_2a598_row0_col1\" class=\"data row0 col1\" >13,108,522.8034186345</td>\n",
       "      <td id=\"T_2a598_row0_col2\" class=\"data row0 col2\" >-51,718,632.5854538381</td>\n",
       "      <td id=\"T_2a598_row0_col3\" class=\"data row0 col3\" >111,567,925.0917400271</td>\n",
       "      <td id=\"T_2a598_row0_col4\" class=\"data row0 col4\" >-135,654,029.6129111648</td>\n",
       "      <td id=\"T_2a598_row0_col5\" class=\"data row0 col5\" >69,361,664.5093054473</td>\n",
       "      <td id=\"T_2a598_row0_col6\" class=\"data row0 col6\" >51,823,718.0978541076</td>\n",
       "      <td id=\"T_2a598_row0_col7\" class=\"data row0 col7\" >-131,647,508.2466668040</td>\n",
       "      <td id=\"T_2a598_row0_col8\" class=\"data row0 col8\" >127,052,877.6161364615</td>\n",
       "      <td id=\"T_2a598_row0_col9\" class=\"data row0 col9\" >-76,493,740.0926118940</td>\n",
       "      <td id=\"T_2a598_row0_col10\" class=\"data row0 col10\" >31,482,834.9017406888</td>\n",
       "      <td id=\"T_2a598_row0_col11\" class=\"data row0 col11\" >-9,043,745.4723047242</td>\n",
       "      <td id=\"T_2a598_row0_col12\" class=\"data row0 col12\" >1,790,516.8321030906</td>\n",
       "      <td id=\"T_2a598_row0_col13\" class=\"data row0 col13\" >-233,433.7636986771</td>\n",
       "      <td id=\"T_2a598_row0_col14\" class=\"data row0 col14\" >18,063.5980024282</td>\n",
       "      <td id=\"T_2a598_row0_col15\" class=\"data row0 col15\" >-629.0461215675</td>\n",
       "    </tr>\n",
       "    <tr>\n",
       "      <th id=\"T_2a598_level0_row1\" class=\"row_heading level0 row1\" >1</th>\n",
       "      <td id=\"T_2a598_row1_col0\" class=\"data row1 col0\" >865.0105524428</td>\n",
       "      <td id=\"T_2a598_row1_col1\" class=\"data row1 col1\" >-364.4896305467</td>\n",
       "      <td id=\"T_2a598_row1_col2\" class=\"data row1 col2\" >23.2972245589</td>\n",
       "      <td id=\"T_2a598_row1_col3\" class=\"data row1 col3\" >31.8252864782</td>\n",
       "      <td id=\"T_2a598_row1_col4\" class=\"data row1 col4\" >3.9289669960</td>\n",
       "      <td id=\"T_2a598_row1_col5\" class=\"data row1 col5\" >0.0584564340</td>\n",
       "      <td id=\"T_2a598_row1_col6\" class=\"data row1 col6\" >-0.1062475124</td>\n",
       "      <td id=\"T_2a598_row1_col7\" class=\"data row1 col7\" >-0.0353964179</td>\n",
       "      <td id=\"T_2a598_row1_col8\" class=\"data row1 col8\" >-0.0079490730</td>\n",
       "      <td id=\"T_2a598_row1_col9\" class=\"data row1 col9\" >-0.0014510839</td>\n",
       "      <td id=\"T_2a598_row1_col10\" class=\"data row1 col10\" >-0.0002142247</td>\n",
       "      <td id=\"T_2a598_row1_col11\" class=\"data row1 col11\" >-0.0000204048</td>\n",
       "      <td id=\"T_2a598_row1_col12\" class=\"data row1 col12\" >0.0000014995</td>\n",
       "      <td id=\"T_2a598_row1_col13\" class=\"data row1 col13\" >0.0000015893</td>\n",
       "      <td id=\"T_2a598_row1_col14\" class=\"data row1 col14\" >0.0000006066</td>\n",
       "      <td id=\"T_2a598_row1_col15\" class=\"data row1 col15\" >0.0000001856</td>\n",
       "    </tr>\n",
       "    <tr>\n",
       "      <th id=\"T_2a598_level0_row2\" class=\"row_heading level0 row2\" >2</th>\n",
       "      <td id=\"T_2a598_row2_col0\" class=\"data row2 col0\" >604.5663303671</td>\n",
       "      <td id=\"T_2a598_row2_col1\" class=\"data row2 col1\" >58.1243679076</td>\n",
       "      <td id=\"T_2a598_row2_col2\" class=\"data row2 col2\" >37.8893136658</td>\n",
       "      <td id=\"T_2a598_row2_col3\" class=\"data row2 col3\" >-0.1892591291</td>\n",
       "      <td id=\"T_2a598_row2_col4\" class=\"data row2 col4\" >-28.5221315624</td>\n",
       "      <td id=\"T_2a598_row2_col5\" class=\"data row2 col5\" >-36.0315317318</td>\n",
       "      <td id=\"T_2a598_row2_col6\" class=\"data row2 col6\" >-22.7924956286</td>\n",
       "      <td id=\"T_2a598_row2_col7\" class=\"data row2 col7\" >0.7832450422</td>\n",
       "      <td id=\"T_2a598_row2_col8\" class=\"data row2 col8\" >16.7901819608</td>\n",
       "      <td id=\"T_2a598_row2_col9\" class=\"data row2 col9\" >11.4874863566</td>\n",
       "      <td id=\"T_2a598_row2_col10\" class=\"data row2 col10\" >-6.2949564030</td>\n",
       "      <td id=\"T_2a598_row2_col11\" class=\"data row2 col11\" >-7.1464236364</td>\n",
       "      <td id=\"T_2a598_row2_col12\" class=\"data row2 col12\" >5.7610642565</td>\n",
       "      <td id=\"T_2a598_row2_col13\" class=\"data row2 col13\" >-1.5839323812</td>\n",
       "      <td id=\"T_2a598_row2_col14\" class=\"data row2 col14\" >0.1893637455</td>\n",
       "      <td id=\"T_2a598_row2_col15\" class=\"data row2 col15\" >-0.0080085561</td>\n",
       "    </tr>\n",
       "  </tbody>\n",
       "</table>\n"
      ]
     },
     "metadata": {}
    },
    {
     "output_type": "display_data",
     "data": {
      "text/plain": [
       "<Figure size 504x504 with 1 Axes>"
      ],
      "image/png": "[encoded data removed]"
     },
     "metadata": {
      "needs_background": "light"
     }
    }
   ],
   "source": [
    "from sklearn.preprocessing import PolynomialFeatures\n",
    "from sklearn.linear_model import LinearRegression, Ridge, Lasso\n",
    "from IPython.display import display\n",
    "\n",
    "def RegularizedPolynomialRegression(X, y, deg=2, figsize=7, lamda=0.2):\n",
    "    poly = PolynomialFeatures(degree=deg, include_bias=False)\n",
    "    X_poly = poly.fit_transform(X.reshape(-1, 1))\n",
    "    \n",
    "    # Polynomial Regression\n",
    "    polyReg = LinearRegression().fit(X_poly, y.reshape(-1, 1)) \n",
    "    # Polynomial Regression with l1-regularization\n",
    "    polyRegL1 = Lasso(alpha=lamda).fit(X_poly, y.reshape(-1, 1))\n",
    "    # Polynomial Regression with l2-regularization\n",
    "    polyRegL2 = Ridge(alpha=lamda).fit(X_poly, y.reshape(-1, 1))\n",
    "    \n",
    "    # Printing Coefficients\n",
    "    coef = np.concatenate((polyReg.coef_.reshape(1, -1), polyRegL1.coef_.reshape(1, -1), polyRegL2.coef_.reshape(1, -1)), axis=0)\n",
    "    coef = pd.DataFrame(coef, columns=[f'b{i+1}' for i in range(deg)])\n",
    "    intercepts = [polyReg.intercept_[0], polyRegL1.intercept_[0], polyRegL2.intercept_[0]]\n",
    "    coef.insert(loc=0, column='b0', value=intercepts)\n",
    "    coef = coef.style.format(\"{:10,.10f}\") # Comment this out to not suppressing the scientific notation\n",
    "    display(coef) \n",
    "    \n",
    "    #### Plotting ####\n",
    "    plt.figure(figsize=(figsize, figsize))\n",
    "    plt.scatter(X, y, color='k', alpha=.5)\n",
    "    \n",
    "    plt.plot(X, polyReg.predict(X_poly), color='tab:blue', alpha=.5)\n",
    "    plt.plot(X, polyRegL1.predict(X_poly), color='tab:orange', alpha=.5)\n",
    "    plt.plot(X, polyRegL2.predict(X_poly), color='tab:green', alpha=.5)\n",
    "\n",
    "    plt.xlabel(\"Flavanoids\")\n",
    "    plt.ylabel(\"Proline\")\n",
    "    plt.legend([f'Degree-{deg} Polynomial Regression', 'L1-Regualarization(Lasso)', 'L2-Regualarization(Ridge)' ,'Training data'])\n",
    "    plt.show()\n",
    "\n",
    "RegularizedPolynomialRegression(X, y, deg=15)\n",
    "\n",
    "## Why does lasso smooth things out?\n",
    "## Both are to introduce randomness, by increasing error for no reason exactly. Preventing over fitting. The lambda needs to be designed so that after fitting, the trained model fits the test. It reduces the \"weight\" of our weights."
   ]
  },
  {
   "cell_type": "code",
   "execution_count": null,
   "id": "86cd0956",
   "metadata": {
    "id": "86cd0956"
   },
   "outputs": [],
   "source": []
  }
 ],
 "metadata": {
  "kernelspec": {
   "display_name": "Python 3",
   "language": "python",
   "name": "python3"
  },
  "language_info": {
   "codemirror_mode": {
    "name": "ipython",
    "version": 3
   },
   "file_extension": ".py",
   "mimetype": "text/x-python",
   "name": "python",
   "nbconvert_exporter": "python",
   "pygments_lexer": "ipython3",
   "version": "3.8.8"
  },
  "colab": {
   "provenance": []
  }
 },
 "nbformat": 4,
 "nbformat_minor": 5
}
