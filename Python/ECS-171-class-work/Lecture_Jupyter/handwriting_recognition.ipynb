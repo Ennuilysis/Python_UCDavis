{
 "cells": [
  {
   "cell_type": "markdown",
   "metadata": {
    "id": "8XW_tZ1Otvyd"
   },
   "source": [
    "# Handwriting recognition\n",
    "\n",
    "**Authors:** [A_K_Nain](https://twitter.com/A_K_Nain), [Sayak Paul](https://twitter.com/RisingSayak)<br>\n",
    "**Date created:** 2021/08/16<br>\n",
    "**Modified:** [EA_Solares](https://twitter.com/EdwinSolares10)\n",
    "**Last modified:** 2022/10/17<br>\n",
    "**Description:** Training a handwriting recognition model with variable-length sequences."
   ]
  },
  {
   "cell_type": "markdown",
   "metadata": {
    "id": "OhlGaDlctvyf"
   },
   "source": [
    "## Introduction\n",
    "\n",
    "This example shows how the [Captcha OCR](https://keras.io/examples/vision/captcha_ocr/)\n",
    "example can be extended to the\n",
    "[IAM Dataset](https://fki.tic.heia-fr.ch/databases/iam-handwriting-database),\n",
    "which has variable length ground-truth targets. Each sample in the dataset is an image of some\n",
    "handwritten text, and its corresponding target is the string present in the image.\n",
    "The IAM Dataset is widely used across many OCR benchmarks, so we hope this example can serve as a\n",
    "good starting point for building OCR systems."
   ]
  },
  {
   "cell_type": "markdown",
   "metadata": {
    "id": "TALWMffwtvyg"
   },
   "source": [
    "## Data collection"
   ]
  },
  {
   "cell_type": "markdown",
   "metadata": {
    "id": "6RK7_Jk9tvyi"
   },
   "source": [
    "Preview how the dataset is organized. Lines prepended by \"#\" are just metadata information."
   ]
  },
  {
   "cell_type": "markdown",
   "metadata": {
    "id": "hwXb96GTtvyi"
   },
   "source": [
    "## Imports"
   ]
  },
  {
   "cell_type": "code",
   "execution_count": 1,
   "metadata": {
    "id": "J5kRwIq4tvyj"
   },
   "outputs": [
    {
     "name": "stderr",
     "output_type": "stream",
     "text": [
      "'words.txt' is not recognized as an internal or external command,\n",
      "operable program or batch file.\n"
     ]
    }
   ],
   "source": [
    "from tensorflow.keras.layers.experimental.preprocessing import StringLookup\n",
    "from tensorflow import keras\n",
    "!words.txt\n",
    "import matplotlib.pyplot as plt\n",
    "import tensorflow as tf\n",
    "import numpy as np\n",
    "import os\n",
    "\n",
    "np.random.seed(42)\n",
    "tf.random.set_seed(42)"
   ]
  },
  {
   "cell_type": "markdown",
   "metadata": {
    "id": "e1rhhHtetvyj"
   },
   "source": [
    "## Dataset splitting"
   ]
  },
  {
   "cell_type": "code",
   "execution_count": 2,
   "metadata": {
    "id": "FqxlxHSGtvyk"
   },
   "outputs": [],
   "source": [
    "base_path = \"data\"\n",
    "words_list = []\n",
    "\n",
    "words = open(f\"{base_path}/words.txt\", \"r\").readlines()\n",
    "for line in words:\n",
    "    if line[0] == \"#\":\n",
    "        continue\n",
    "    if line.split(\" \")[1] != \"err\":  # We don't need to deal with errored entries.\n",
    "        words_list.append(line)\n",
    "\n",
    "len(words_list)\n",
    "\n",
    "np.random.shuffle(words_list)"
   ]
  },
  {
   "cell_type": "code",
   "execution_count": 3,
   "metadata": {
    "colab": {
     "base_uri": "https://localhost:8080/",
     "height": 35
    },
    "id": "sw_g3luwuncc",
    "outputId": "435bc483-1b95-4380-e3ad-93cf56bc59e0"
   },
   "outputs": [
    {
     "data": {
      "text/plain": "'r06-143-04-10 ok 186 1892 1453 36 66 ? ?\\n'"
     },
     "execution_count": 3,
     "metadata": {},
     "output_type": "execute_result"
    }
   ],
   "source": [
    "line"
   ]
  },
  {
   "cell_type": "markdown",
   "metadata": {
    "id": "HkdYdMUYtvyl"
   },
   "source": [
    "We will split the dataset into three subsets with a 90:5:5 ratio (train:validation:test)."
   ]
  },
  {
   "cell_type": "code",
   "execution_count": 4,
   "metadata": {
    "colab": {
     "base_uri": "https://localhost:8080/"
    },
    "id": "i5WZyqZbtvyl",
    "outputId": "31b4fd3e-b1a6-43a3-f63f-61d5884e440b"
   },
   "outputs": [
    {
     "data": {
      "text/plain": "86810"
     },
     "execution_count": 4,
     "metadata": {},
     "output_type": "execute_result"
    }
   ],
   "source": [
    "split_idx = int(0.9 * len(words_list))\n",
    "split_idx"
   ]
  },
  {
   "cell_type": "code",
   "execution_count": 5,
   "metadata": {
    "id": "2OsbtfGDvIM-"
   },
   "outputs": [],
   "source": [
    "#Here we slice the data based on the split index 90%\n",
    "#top 90%\n",
    "train_samples = words_list[:split_idx]\n",
    "#bottom 10%\n",
    "test_samples = words_list[split_idx:]"
   ]
  },
  {
   "cell_type": "code",
   "execution_count": 6,
   "metadata": {
    "id": "VUplU-ONvgvu"
   },
   "outputs": [],
   "source": [
    "# split test samples 50/50 for validation and test\n",
    "val_split_idx = int(0.5 * len(test_samples))\n",
    "#top 5%\n",
    "validation_samples = test_samples[:val_split_idx]\n",
    "#bottom 5%\n",
    "test_samples = test_samples[val_split_idx:]"
   ]
  },
  {
   "cell_type": "code",
   "execution_count": 7,
   "metadata": {
    "colab": {
     "base_uri": "https://localhost:8080/"
    },
    "id": "f5NSwn3fv4b1",
    "outputId": "a9e540c1-8876-4c43-9e89-94a5d6ccaef3"
   },
   "outputs": [
    {
     "name": "stdout",
     "output_type": "stream",
     "text": [
      "Total training samples: 86810\n",
      "Total validation samples: 4823\n",
      "Total test samples: 4823\n"
     ]
    }
   ],
   "source": [
    "assert len(words_list) == len(train_samples) + len(validation_samples) + len(test_samples)\n",
    "# assert x=3 If x != 3, then a break will occur, and a report will appear\n",
    "# x=2\n",
    "print(f\"Total training samples: {len(train_samples)}\")\n",
    "print(f\"Total validation samples: {len(validation_samples)}\")\n",
    "print(f\"Total test samples: {len(test_samples)}\")"
   ]
  },
  {
   "cell_type": "markdown",
   "metadata": {
    "id": "0X9xk_QOtvyl"
   },
   "source": [
    "## Data input pipeline\n",
    "\n",
    "We start building our data input pipeline by first preparing the image paths."
   ]
  },
  {
   "cell_type": "code",
   "execution_count": 8,
   "metadata": {
    "id": "pBzcTpSUtvym"
   },
   "outputs": [
    {
     "ename": "FileNotFoundError",
     "evalue": "[WinError 3] The system cannot find the path specified: 'data\\\\words\\\\e04\\\\e04-030\\\\e04-030-04-08.png'",
     "output_type": "error",
     "traceback": [
      "\u001B[1;31m---------------------------------------------------------------------------\u001B[0m",
      "\u001B[1;31mFileNotFoundError\u001B[0m                         Traceback (most recent call last)",
      "Cell \u001B[1;32mIn [8], line 26\u001B[0m\n\u001B[0;32m     23\u001B[0m     \u001B[38;5;28;01mreturn\u001B[39;00m paths, corrected_samples\n\u001B[0;32m     25\u001B[0m \u001B[38;5;66;03m#Using the slit on paths and target labels, we setup our samples for training, validation and testing\u001B[39;00m\n\u001B[1;32m---> 26\u001B[0m train_img_paths, train_labels \u001B[38;5;241m=\u001B[39m \u001B[43mget_image_paths_and_labels\u001B[49m\u001B[43m(\u001B[49m\u001B[43mtrain_samples\u001B[49m\u001B[43m)\u001B[49m\n\u001B[0;32m     27\u001B[0m validation_img_paths, validation_labels \u001B[38;5;241m=\u001B[39m get_image_paths_and_labels(validation_samples)\n\u001B[0;32m     28\u001B[0m test_img_paths, test_labels \u001B[38;5;241m=\u001B[39m get_image_paths_and_labels(test_samples)\n",
      "Cell \u001B[1;32mIn [8], line 19\u001B[0m, in \u001B[0;36mget_image_paths_and_labels\u001B[1;34m(samples)\u001B[0m\n\u001B[0;32m     15\u001B[0m partII \u001B[38;5;241m=\u001B[39m image_name\u001B[38;5;241m.\u001B[39msplit(\u001B[38;5;124m\"\u001B[39m\u001B[38;5;124m-\u001B[39m\u001B[38;5;124m\"\u001B[39m)[\u001B[38;5;241m1\u001B[39m]\n\u001B[0;32m     16\u001B[0m img_path \u001B[38;5;241m=\u001B[39m os\u001B[38;5;241m.\u001B[39mpath\u001B[38;5;241m.\u001B[39mjoin(\n\u001B[0;32m     17\u001B[0m     base_image_path, partI, partI \u001B[38;5;241m+\u001B[39m \u001B[38;5;124m\"\u001B[39m\u001B[38;5;124m-\u001B[39m\u001B[38;5;124m\"\u001B[39m \u001B[38;5;241m+\u001B[39m partII, image_name \u001B[38;5;241m+\u001B[39m \u001B[38;5;124m\"\u001B[39m\u001B[38;5;124m.png\u001B[39m\u001B[38;5;124m\"\u001B[39m\n\u001B[0;32m     18\u001B[0m )\n\u001B[1;32m---> 19\u001B[0m \u001B[38;5;28;01mif\u001B[39;00m \u001B[43mos\u001B[49m\u001B[38;5;241;43m.\u001B[39;49m\u001B[43mpath\u001B[49m\u001B[38;5;241;43m.\u001B[39;49m\u001B[43mgetsize\u001B[49m\u001B[43m(\u001B[49m\u001B[43mimg_path\u001B[49m\u001B[43m)\u001B[49m:\n\u001B[0;32m     20\u001B[0m     paths\u001B[38;5;241m.\u001B[39mappend(img_path)\n\u001B[0;32m     21\u001B[0m     corrected_samples\u001B[38;5;241m.\u001B[39mappend(file_line\u001B[38;5;241m.\u001B[39msplit(\u001B[38;5;124m\"\u001B[39m\u001B[38;5;130;01m\\n\u001B[39;00m\u001B[38;5;124m\"\u001B[39m)[\u001B[38;5;241m0\u001B[39m])\n",
      "File \u001B[1;32mc:\\users\\gerri\\appdata\\local\\programs\\python\\python39\\lib\\genericpath.py:50\u001B[0m, in \u001B[0;36mgetsize\u001B[1;34m(filename)\u001B[0m\n\u001B[0;32m     48\u001B[0m \u001B[38;5;28;01mdef\u001B[39;00m \u001B[38;5;21mgetsize\u001B[39m(filename):\n\u001B[0;32m     49\u001B[0m     \u001B[38;5;124;03m\"\"\"Return the size of a file, reported by os.stat().\"\"\"\u001B[39;00m\n\u001B[1;32m---> 50\u001B[0m     \u001B[38;5;28;01mreturn\u001B[39;00m \u001B[43mos\u001B[49m\u001B[38;5;241;43m.\u001B[39;49m\u001B[43mstat\u001B[49m\u001B[43m(\u001B[49m\u001B[43mfilename\u001B[49m\u001B[43m)\u001B[49m\u001B[38;5;241m.\u001B[39mst_size\n",
      "\u001B[1;31mFileNotFoundError\u001B[0m: [WinError 3] The system cannot find the path specified: 'data\\\\words\\\\e04\\\\e04-030\\\\e04-030-04-08.png'"
     ]
    }
   ],
   "source": [
    "base_image_path = os.path.join(base_path, \"words\")\n",
    "\n",
    "\n",
    "def get_image_paths_and_labels(samples):\n",
    "    paths = []\n",
    "    corrected_samples = []\n",
    "    for (i, file_line) in enumerate(samples):\n",
    "        line_split = file_line.strip()\n",
    "        line_split = line_split.split(\" \")\n",
    "\n",
    "        # Each line split will have this format for the corresponding image:\n",
    "        # part1/part1-part2/part1-part2-part3.png\n",
    "        image_name = line_split[0]\n",
    "        partI = image_name.split(\"-\")[0]\n",
    "        partII = image_name.split(\"-\")[1]\n",
    "        img_path = os.path.join(\n",
    "            base_image_path, partI, partI + \"-\" + partII, image_name + \".png\"\n",
    "        )\n",
    "        if os.path.getsize(img_path):\n",
    "            paths.append(img_path)\n",
    "            corrected_samples.append(file_line.split(\"\\n\")[0])\n",
    "\n",
    "    return paths, corrected_samples\n",
    "\n",
    "#Using the slit on paths and target labels, we setup our samples for training, validation and testing\n",
    "train_img_paths, train_labels = get_image_paths_and_labels(train_samples)\n",
    "validation_img_paths, validation_labels = get_image_paths_and_labels(validation_samples)\n",
    "test_img_paths, test_labels = get_image_paths_and_labels(test_samples)"
   ]
  },
  {
   "cell_type": "markdown",
   "metadata": {
    "id": "yKClu4pEtvym"
   },
   "source": [
    "Then we prepare the ground-truth labels."
   ]
  },
  {
   "cell_type": "code",
   "execution_count": null,
   "metadata": {
    "colab": {
     "base_uri": "https://localhost:8080/"
    },
    "id": "bzlG9rg0tvym",
    "outputId": "1d5957cb-1f96-4cf2-f519-80d70ee386db"
   },
   "outputs": [],
   "source": [
    "# Find maximum length and the size of the vocabulary in the training data using labels\n",
    "# No training yet\n",
    "train_labels_cleaned = []\n",
    "characters = set()\n",
    "max_len = 0\n",
    "\n",
    "for label in train_labels:\n",
    "    label = label.split(\" \")[-1].strip()\n",
    "    for char in label:\n",
    "        characters.add(char)\n",
    "\n",
    "    max_len = max(max_len, len(label))\n",
    "    train_labels_cleaned.append(label)\n",
    "\n",
    "characters = sorted(list(characters))\n",
    "\n",
    "print(\"Maximum length: \", max_len)\n",
    "print(\"Vocab size: \", len(characters))\n",
    "\n",
    "# Check some label samples.\n",
    "train_labels_cleaned[:10]"
   ]
  },
  {
   "cell_type": "markdown",
   "metadata": {
    "id": "KVqy0mnutvyn"
   },
   "source": [
    "Now we clean the validation and the test labels as well."
   ]
  },
  {
   "cell_type": "code",
   "execution_count": null,
   "metadata": {
    "id": "e8CxMTKUtvyn"
   },
   "outputs": [],
   "source": [
    "\n",
    "def clean_labels(labels):\n",
    "    cleaned_labels = []\n",
    "    for label in labels:\n",
    "        label = label.split(\" \")[-1].strip()\n",
    "        cleaned_labels.append(label)\n",
    "    return cleaned_labels\n",
    "\n",
    "\n",
    "validation_labels_cleaned = clean_labels(validation_labels)\n",
    "test_labels_cleaned = clean_labels(test_labels)"
   ]
  },
  {
   "cell_type": "markdown",
   "metadata": {
    "id": "7WdHKAjktvyn"
   },
   "source": [
    "### Building the character vocabulary\n",
    "\n",
    "Keras provides different preprocessing layers to deal with different modalities of data.\n",
    "[This guide](https://keras.io/guides/preprocessing_layers/) provides a comprehensive introduction.\n",
    "Our example involves preprocessing labels at the character\n",
    "level. This means that if there are two labels, e.g. \"cat\" and \"dog\", then our character\n",
    "vocabulary should be {a, c, d, g, o, t} (without any special tokens). We use the\n",
    "[`StringLookup`](https://keras.io/api/layers/preprocessing_layers/categorical/string_lookup/)\n",
    "layer for this purpose."
   ]
  },
  {
   "cell_type": "code",
   "execution_count": null,
   "metadata": {
    "id": "U1dX_7u_tvyn"
   },
   "outputs": [],
   "source": [
    "#allows for parallelization of preprocessing data and training since weights are usually optimized using SGD\n",
    "#tf is tensorflow\n",
    "AUTOTUNE = tf.data.AUTOTUNE\n",
    "\n",
    "# Mapping characters to integers.\n",
    "char_to_num = StringLookup(vocabulary=list(characters), mask_token=None)\n",
    "\n",
    "# Mapping integers back to original characters.\n",
    "num_to_char = StringLookup(\n",
    "    vocabulary=char_to_num.get_vocabulary(), mask_token=None, invert=True\n",
    ")"
   ]
  },
  {
   "cell_type": "markdown",
   "metadata": {
    "id": "VTwJEXedtvyo"
   },
   "source": [
    "### Resizing images without distortion\n",
    "\n",
    "Instead of square images, many OCR models work with rectangular images. This will become\n",
    "clearer in a moment when we will visualize a few samples from the dataset. While\n",
    "aspect-unaware resizing square images does not introduce a significant amount of\n",
    "distortion this is not the case for rectangular images. But resizing images to a uniform\n",
    "size is a requirement for mini-batching. So we need to perform our resizing such that\n",
    "the following criteria are met:\n",
    "\n",
    "* Aspect ratio is preserved.\n",
    "* Content of the images is not affected."
   ]
  },
  {
   "cell_type": "code",
   "execution_count": null,
   "metadata": {
    "id": "boZqqWXetvyo"
   },
   "outputs": [],
   "source": [
    "\n",
    "def distortion_free_resize(image, img_size):\n",
    "    w, h = img_size\n",
    "    image = tf.image.resize(image, size=(h, w), preserve_aspect_ratio=True)\n",
    "\n",
    "    # Check tha amount of padding needed to be done.\n",
    "    pad_height = h - tf.shape(image)[0]\n",
    "    pad_width = w - tf.shape(image)[1]\n",
    "\n",
    "    # Only necessary if you want to do same amount of padding on both sides.\n",
    "    if pad_height % 2 != 0:\n",
    "        height = pad_height // 2\n",
    "        pad_height_top = height + 1\n",
    "        pad_height_bottom = height\n",
    "    else:\n",
    "        pad_height_top = pad_height_bottom = pad_height // 2\n",
    "\n",
    "    if pad_width % 2 != 0:\n",
    "        width = pad_width // 2\n",
    "        pad_width_left = width + 1\n",
    "        pad_width_right = width\n",
    "    else:\n",
    "        pad_width_left = pad_width_right = pad_width // 2\n",
    "\n",
    "    image = tf.pad(\n",
    "        image,\n",
    "        paddings=[\n",
    "            [pad_height_top, pad_height_bottom],\n",
    "            [pad_width_left, pad_width_right],\n",
    "            [0, 0],\n",
    "        ],\n",
    "    )\n",
    "\n",
    "    image = tf.transpose(image, perm=[1, 0, 2])\n",
    "    image = tf.image.flip_left_right(image)\n",
    "    return image\n"
   ]
  },
  {
   "cell_type": "markdown",
   "metadata": {
    "id": "c2WiDDZwtvyp"
   },
   "source": [
    "If we just go with the plain resizing then the images would look like so:\n",
    "\n",
    "![](https://i.imgur.com/eqq3s4N.png)\n",
    "\n",
    "Notice how this resizing would have introduced unnecessary stretching."
   ]
  },
  {
   "cell_type": "markdown",
   "metadata": {
    "id": "A5erA_nztvyp"
   },
   "source": [
    "### Putting the utilities together"
   ]
  },
  {
   "cell_type": "code",
   "execution_count": null,
   "metadata": {
    "id": "ag0suXzltvyp"
   },
   "outputs": [],
   "source": [
    "# Here we have a batch size of 64 i.e. mini-batch\n",
    "batch_size = 64\n",
    "padding_token = 99\n",
    "image_width = 128\n",
    "image_height = 32\n",
    "\n",
    "\n",
    "def preprocess_image(image_path, img_size=(image_width, image_height)):\n",
    "    image = tf.io.read_file(image_path)\n",
    "    image = tf.image.decode_png(image, 1)\n",
    "    image = distortion_free_resize(image, img_size)\n",
    "    image = tf.cast(image, tf.float32) / 255.0\n",
    "    return image\n",
    "\n",
    "\n",
    "def vectorize_label(label):\n",
    "    label = char_to_num(tf.strings.unicode_split(label, input_encoding=\"UTF-8\"))\n",
    "    length = tf.shape(label)[0]\n",
    "    pad_amount = max_len - length\n",
    "    label = tf.pad(label, paddings=[[0, pad_amount]], constant_values=padding_token)\n",
    "    return label\n",
    "\n",
    "\n",
    "def process_images_labels(image_path, label):\n",
    "    image = preprocess_image(image_path)\n",
    "    label = vectorize_label(label)\n",
    "    return {\"image\": image, \"label\": label}\n",
    "\n",
    "\n",
    "def prepare_dataset(image_paths, labels):\n",
    "    dataset = tf.data.Dataset.from_tensor_slices((image_paths, labels)).map(\n",
    "        process_images_labels, num_parallel_calls=AUTOTUNE\n",
    "    )\n",
    "    return dataset.batch(batch_size).cache().prefetch(AUTOTUNE)\n"
   ]
  },
  {
   "cell_type": "markdown",
   "metadata": {
    "id": "EycHqUnrtvyp"
   },
   "source": [
    "## Prepare `tf.data.Dataset` objects"
   ]
  },
  {
   "cell_type": "code",
   "execution_count": null,
   "metadata": {
    "id": "hgKyWPwQtvyp"
   },
   "outputs": [],
   "source": [
    "train_ds = prepare_dataset(train_img_paths, train_labels_cleaned)\n",
    "validation_ds = prepare_dataset(validation_img_paths, validation_labels_cleaned)\n",
    "test_ds = prepare_dataset(test_img_paths, test_labels_cleaned)"
   ]
  },
  {
   "cell_type": "markdown",
   "metadata": {
    "id": "1ZMVAnbatvyq"
   },
   "source": [
    "## Visualize a few samples"
   ]
  },
  {
   "cell_type": "code",
   "execution_count": null,
   "metadata": {
    "colab": {
     "base_uri": "https://localhost:8080/",
     "height": 433
    },
    "id": "XrdIjvt0tvyq",
    "outputId": "6ccdf1ee-6651-4974-9568-00ff73dbd424"
   },
   "outputs": [],
   "source": [
    "for data in train_ds.take(1):\n",
    "    images, labels = data[\"image\"], data[\"label\"]\n",
    "    _, ax = plt.subplots(4, 4, figsize=(15, 8))\n",
    "    for i in range(16):\n",
    "        img = images[i]\n",
    "        img = tf.image.flip_left_right(img)\n",
    "        img = tf.transpose(img, perm=[1, 0, 2])\n",
    "        img = (img * 255.0).numpy().clip(0, 255).astype(np.uint8)\n",
    "        img = img[:, :, 0]\n",
    "        # Gather indices where label!= padding_token.\n",
    "        label = labels[i]\n",
    "        indices = tf.gather(label, tf.where(tf.math.not_equal(label, padding_token)))\n",
    "        # Convert to string.\n",
    "        label = tf.strings.reduce_join(num_to_char(indices))\n",
    "        label = label.numpy().decode(\"utf-8\")\n",
    "        ax[i // 4, i % 4].imshow(img, cmap=\"gray\")\n",
    "        ax[i // 4, i % 4].set_title(label)\n",
    "        ax[i // 4, i % 4].axis(\"off\")\n",
    "\n",
    "\n",
    "plt.show()"
   ]
  },
  {
   "cell_type": "markdown",
   "metadata": {
    "id": "ZcCHa_Z6tvyq"
   },
   "source": [
    "You will notice that the content of original image is kept as faithful as possible and has\n",
    "been padded accordingly."
   ]
  },
  {
   "cell_type": "markdown",
   "metadata": {
    "id": "yfwxBIZLtvyq"
   },
   "source": [
    "## Model\n",
    "\n",
    "Our model will use the CTC loss as an endpoint layer. For a detailed understanding of the\n",
    "CTC loss, refer to [this post](https://distill.pub/2017/ctc/)."
   ]
  },
  {
   "cell_type": "code",
   "execution_count": null,
   "metadata": {
    "colab": {
     "base_uri": "https://localhost:8080/"
    },
    "id": "hk425h9dtvyq",
    "outputId": "9cad3c54-05e2-4f80-dd3e-d12fbd545aff"
   },
   "outputs": [],
   "source": [
    "\n",
    "class CTCLayer(keras.layers.Layer):\n",
    "    def __init__(self, name=None):\n",
    "        super().__init__(name=name)\n",
    "        self.loss_fn = keras.backend.ctc_batch_cost\n",
    "    def call(self, y_true, y_pred):\n",
    "        batch_len = tf.cast(tf.shape(y_true)[0], dtype=\"int64\")\n",
    "        input_length = tf.cast(tf.shape(y_pred)[1], dtype=\"int64\")\n",
    "        label_length = tf.cast(tf.shape(y_true)[1], dtype=\"int64\")\n",
    "        input_length = input_length * tf.ones(shape=(batch_len, 1), dtype=\"int64\")\n",
    "        label_length = label_length * tf.ones(shape=(batch_len, 1), dtype=\"int64\")\n",
    "        loss = self.loss_fn(y_true, y_pred, input_length, label_length)\n",
    "        self.add_loss(loss)\n",
    "        # At test time, just return the computed predictions.\n",
    "        return y_pred\n",
    "\n",
    "def build_model():\n",
    "    # Inputs to the model\n",
    "    input_img = keras.Input(shape=(image_width, image_height, 1), name=\"image\")\n",
    "    labels = keras.layers.Input(name=\"label\", shape=(None,))\n",
    "    # First conv block.\n",
    "    x = keras.layers.Conv2D(32,\n",
    "        (3, 3),\n",
    "        activation=\"relu\",\n",
    "        kernel_initializer=\"he_normal\",\n",
    "        padding=\"same\",\n",
    "        name=\"Conv1\",\n",
    "    )(input_img)\n",
    "    x = keras.layers.MaxPooling2D((2, 2), name=\"pool1\")(x)\n",
    "\n",
    "    # Second conv block.\n",
    "    x = keras.layers.Conv2D(\n",
    "        64,\n",
    "        (3, 3),\n",
    "        activation=\"relu\",\n",
    "        kernel_initializer=\"he_normal\",\n",
    "        padding=\"same\",\n",
    "        name=\"Conv2\",\n",
    "    )(x)\n",
    "    x = keras.layers.MaxPooling2D((2, 2), name=\"pool2\")(x)\n",
    "\n",
    "    # We have used two max pool with pool size and strides 2.\n",
    "    # Hence, downsampled feature maps are 4x smaller. The number of\n",
    "    # filters in the last layer is 64. Reshape accordingly before\n",
    "    # passing the output to the RNN part of the model.\n",
    "    new_shape = ((image_width // 4), (image_height // 4) * 64)\n",
    "    x = keras.layers.Reshape(target_shape=new_shape, name=\"reshape\")(x)\n",
    "    x = keras.layers.Dense(64, activation=\"relu\", name=\"dense1\")(x)\n",
    "    x = keras.layers.Dropout(0.2)(x)\n",
    "\n",
    "    # RNNs.\n",
    "    x = keras.layers.Bidirectional(\n",
    "        keras.layers.LSTM(128, return_sequences=True, dropout=0.25))(x)\n",
    "    x = keras.layers.Bidirectional(\n",
    "        keras.layers.LSTM(64, return_sequences=True, dropout=0.25))(x)\n",
    "\n",
    "    # +2 is to account for the two special tokens introduced by the CTC loss.\n",
    "    # The recommendation comes here: https://git.io/J0eXP.\n",
    "    x = keras.layers.Dense(\n",
    "        len(char_to_num.get_vocabulary()) + 2, activation=\"softmax\", name=\"dense2\")(x)\n",
    "\n",
    "    # Add CTC layer for calculating CTC loss at each step.\n",
    "    output = CTCLayer(name=\"ctc_loss\")(labels, x)\n",
    "\n",
    "    # Define the model.\n",
    "    model = keras.models.Model(\n",
    "        inputs=[input_img, labels], outputs=output, name=\"handwriting_recognizer\")\n",
    "    # Optimizer.\n",
    "    opt = keras.optimizers.Adam()\n",
    "    # Compile the model and return.\n",
    "    model.compile(optimizer=opt)\n",
    "    return model\n",
    "\n",
    "\n",
    "# Get the model.\n",
    "model = build_model()\n",
    "model.summary()"
   ]
  },
  {
   "cell_type": "markdown",
   "metadata": {
    "id": "737-dUSntvyr"
   },
   "source": [
    "## Evaluation metric\n",
    "\n",
    "[Edit Distance](https://en.wikipedia.org/wiki/Edit_distance)\n",
    "is the most widely used metric for evaluating OCR models. In this section, we will\n",
    "implement it and use it as a callback to monitor our model."
   ]
  },
  {
   "cell_type": "markdown",
   "metadata": {
    "id": "7O-ZXuChtvyr"
   },
   "source": [
    "We first segregate the validation images and their labels for convenience."
   ]
  },
  {
   "cell_type": "code",
   "execution_count": null,
   "metadata": {
    "id": "SKuEg-4Otvyr"
   },
   "outputs": [],
   "source": [
    "validation_images = []\n",
    "validation_labels = []\n",
    "\n",
    "for batch in validation_ds:\n",
    "    validation_images.append(batch[\"image\"])\n",
    "    validation_labels.append(batch[\"label\"])"
   ]
  },
  {
   "cell_type": "markdown",
   "metadata": {
    "id": "qmh2oXMItvyr"
   },
   "source": [
    "Now, we create a callback to monitor the edit distances."
   ]
  },
  {
   "cell_type": "code",
   "execution_count": null,
   "metadata": {
    "id": "PmcOPCm6tvyr"
   },
   "outputs": [],
   "source": [
    "\n",
    "def calculate_edit_distance(labels, predictions):\n",
    "    # Get a single batch and convert its labels to sparse tensors.\n",
    "    saprse_labels = tf.cast(tf.sparse.from_dense(labels), dtype=tf.int64)\n",
    "\n",
    "    # Make predictions and convert them to sparse tensors.\n",
    "    input_len = np.ones(predictions.shape[0]) * predictions.shape[1]\n",
    "    predictions_decoded = keras.backend.ctc_decode(\n",
    "        predictions, input_length=input_len, greedy=True\n",
    "    )[0][0][:, :max_len]\n",
    "    sparse_predictions = tf.cast(\n",
    "        tf.sparse.from_dense(predictions_decoded), dtype=tf.int64\n",
    "    )\n",
    "\n",
    "    # Compute individual edit distances and average them out.\n",
    "    edit_distances = tf.edit_distance(\n",
    "        sparse_predictions, saprse_labels, normalize=False\n",
    "    )\n",
    "    return tf.reduce_mean(edit_distances)\n",
    "\n",
    "\n",
    "class EditDistanceCallback(keras.callbacks.Callback):\n",
    "    def __init__(self, pred_model):\n",
    "        super().__init__()\n",
    "        self.prediction_model = pred_model\n",
    "\n",
    "    def on_epoch_end(self, epoch, logs=None):\n",
    "        edit_distances = []\n",
    "\n",
    "        for i in range(len(validation_images)):\n",
    "            labels = validation_labels[i]\n",
    "            predictions = self.prediction_model.predict(validation_images[i])\n",
    "            edit_distances.append(calculate_edit_distance(labels, predictions).numpy())\n",
    "\n",
    "        print(\n",
    "            f\"Mean edit distance for epoch {epoch + 1}: {np.mean(edit_distances):.4f}\"\n",
    "        )\n"
   ]
  },
  {
   "cell_type": "markdown",
   "metadata": {
    "id": "MDfqn22ltvyr"
   },
   "source": [
    "## Training\n",
    "\n",
    "Now we are ready to kick off model training."
   ]
  },
  {
   "cell_type": "code",
   "execution_count": null,
   "metadata": {
    "colab": {
     "background_save": true,
     "base_uri": "https://localhost:8080/"
    },
    "id": "GO3_vTHKtvyr",
    "outputId": "c1a1b353-f254-4514-cd5b-1abf2a643549"
   },
   "outputs": [],
   "source": [
    "epochs = 10  # To get good results this should be at least 50.\n",
    "\n",
    "model = build_model()\n",
    "prediction_model = keras.models.Model(\n",
    "    model.get_layer(name=\"image\").input, model.get_layer(name=\"dense2\").output\n",
    ")\n",
    "edit_distance_callback = EditDistanceCallback(prediction_model)\n",
    "\n",
    "# Train the model.\n",
    "history = model.fit(\n",
    "    train_ds,\n",
    "    validation_data=validation_ds,\n",
    "    epochs=epochs,\n",
    "    callbacks=[edit_distance_callback],\n",
    ")\n"
   ]
  },
  {
   "cell_type": "markdown",
   "metadata": {
    "id": "3a9NGxpxtvys"
   },
   "source": [
    "## Inference"
   ]
  },
  {
   "cell_type": "code",
   "execution_count": null,
   "metadata": {
    "id": "cqJ1iBdWtvys"
   },
   "outputs": [],
   "source": [
    "\n",
    "# A utility function to decode the output of the network.\n",
    "def decode_batch_predictions(pred):\n",
    "    input_len = np.ones(pred.shape[0]) * pred.shape[1]\n",
    "    # Use greedy search. For complex tasks, you can use beam search.\n",
    "    results = keras.backend.ctc_decode(pred, input_length=input_len, greedy=True)[0][0][\n",
    "        :, :max_len\n",
    "    ]\n",
    "    # Iterate over the results and get back the text.\n",
    "    output_text = []\n",
    "    for res in results:\n",
    "        res = tf.gather(res, tf.where(tf.math.not_equal(res, -1)))\n",
    "        res = tf.strings.reduce_join(num_to_char(res)).numpy().decode(\"utf-8\")\n",
    "        output_text.append(res)\n",
    "    return output_text\n",
    "\n",
    "\n",
    "#  Let's check results on some test samples.\n",
    "for batch in test_ds.take(1):\n",
    "    batch_images = batch[\"image\"]\n",
    "    _, ax = plt.subplots(4, 4, figsize=(15, 8))\n",
    "\n",
    "    preds = prediction_model.predict(batch_images)\n",
    "    pred_texts = decode_batch_predictions(preds)\n",
    "\n",
    "    for i in range(16):\n",
    "        img = batch_images[i]\n",
    "        img = tf.image.flip_left_right(img)\n",
    "        img = tf.transpose(img, perm=[1, 0, 2])\n",
    "        img = (img * 255.0).numpy().clip(0, 255).astype(np.uint8)\n",
    "        img = img[:, :, 0]\n",
    "\n",
    "        title = f\"Prediction: {pred_texts[i]}\"\n",
    "        ax[i // 4, i % 4].imshow(img, cmap=\"gray\")\n",
    "        ax[i // 4, i % 4].set_title(title)\n",
    "        ax[i // 4, i % 4].axis(\"off\")\n",
    "\n",
    "plt.show()"
   ]
  },
  {
   "cell_type": "markdown",
   "metadata": {
    "id": "Cdqg1qa1tvys"
   },
   "source": [
    "To get better results the model should be trained for at least 50 epochs."
   ]
  },
  {
   "cell_type": "markdown",
   "metadata": {
    "id": "j01pIm4-tvys"
   },
   "source": [
    "## Final remarks\n",
    "\n",
    "* The `prediction_model` is fully compatible with TensorFlow Lite. If you are interested,\n",
    "you can use it inside a mobile application. You may find\n",
    "[this notebook](https://github.com/tulasiram58827/ocr_tflite/blob/main/colabs/captcha_ocr_tflite.ipynb)\n",
    "to be useful in this regard.\n",
    "* Not all the training examples are perfectly aligned as observed in this example. This\n",
    "can hurt model performance for complex sequences. To this end, we can leverage\n",
    "Spatial Transformer Networks ([Jaderberg et al.](https://arxiv.org/abs/1506.02025))\n",
    "that can help the model learn affine transformations that maximize its performance."
   ]
  }
 ],
 "metadata": {
  "colab": {
   "collapsed_sections": [],
   "provenance": []
  },
  "kernelspec": {
   "display_name": "Python 3",
   "language": "python",
   "name": "python3"
  },
  "language_info": {
   "codemirror_mode": {
    "name": "ipython",
    "version": 3
   },
   "file_extension": ".py",
   "mimetype": "text/x-python",
   "name": "python",
   "nbconvert_exporter": "python",
   "pygments_lexer": "ipython3",
   "version": "3.7.0"
  }
 },
 "nbformat": 4,
 "nbformat_minor": 0
}
