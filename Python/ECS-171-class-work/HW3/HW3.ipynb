{
 "cells": [
  {
   "cell_type": "markdown",
   "metadata": {},
   "source": [
    "# Homework 3: Due 11/20\n",
    "In this assignment, we will be building a Naïve Bayes classifier and a SVM model for the productivity satisfaction of [the given dataset](https://archive.ics.uci.edu/ml/datasets/Productivity+Prediction+of+Garment+Employees), the productivity of garment employees.\n",
    "\n",
    "## Background\n",
    "The Garment Industry is one of the key examples of the industrial globalization of this modern era. It is a highly labour-intensive industry with lots of manual processes. Satisfying the huge global demand for garment products is mostly dependent on the production and delivery performance of the employees in the garment manufacturing companies. So, it is highly desirable among the decision makers in the garments industry to track, analyse and predict the productivity performance of the working teams in their factories. \n",
    "\n",
    "## Dataset Attribute Information\n",
    "\n",
    "1. **date**: Date in MM-DD-YYYY\n",
    "2. **day**: Day of the Week\n",
    "3. **quarter** : A portion of the month. A month was divided into four quarters\n",
    "4. **department** : Associated department with the instance\n",
    "5. **team_no** : Associated team number with the instance\n",
    "6. **no_of_workers** : Number of workers in each team\n",
    "7. **no_of_style_change** : Number of changes in the style of a particular product\n",
    "8. **targeted_productivity** : Targeted productivity set by the Authority for each team for each day.\n",
    "9. **smv** : Standard Minute Value, it is the allocated time for a task\n",
    "10. **wip** : Work in progress. Includes the number of unfinished items for products\n",
    "11. **over_time** : Represents the amount of overtime by each team in minutes\n",
    "12. **incentive** : Represents the amount of financial incentive (in BDT) that enables or motivates a particular course of action.\n",
    "13. **idle_time** : The amount of time when the production was interrupted due to several reasons\n",
    "14. **idle_men** : The number of workers who were idle due to production interruption\n",
    "15. **actual_productivity** : The actual % of productivity that was delivered by the workers. It ranges from 0-1.\n",
    "\n",
    "### Libraries that can be used: numpy, scipy, pandas, scikit-learn, cvxpy, imbalanced-learn\n",
    "Any libraries used in the discussion materials are also allowed.\n",
    "\n",
    "#### Other Notes\n",
    "\n",
    " - Don't worry about not being able to achieve high accuracy, it is neither the goal nor the grading standard of this assignment. <br >\n",
    " - If not specified, you are not required to do hyperparameter tuning, but feel free to do so if you'd like.\n",
    "\n",
    "#### Trouble Shooting\n",
    "In case you have trouble installing and using imbalanced-learn(imblearn) <br >\n",
    "Run the below code cell, then go to the selection bar at top: Kernel > Restart. <br >\n",
    "Then try `import imblearn` to see if things work. "
   ]
  },
  {
   "cell_type": "code",
   "execution_count": 393,
   "metadata": {},
   "outputs": [],
   "source": [
    "# Install a pip package in the current Jupyter kernel\n",
    "import sys\n",
    "\n",
    "import keras.utils\n",
    "#!{sys.executable} -m pip install imbalanced-learn delayed\n",
    "import numpy as np\n",
    "import scipy\n",
    "import pandas as pd\n",
    "import sklearn\n",
    "import cvxpy\n",
    "import imblearn\n",
    "np.random.seed(1)\n",
    "keras.utils.set_random_seed(1)"
   ]
  },
  {
   "cell_type": "markdown",
   "metadata": {},
   "source": [
    "# Exercises\n",
    "\n",
    "## Exercise 1 - General Data Preprocessing (20 points)\n",
    "\n",
    "Our dataset needs cleaning before building any models. Some of the cleaning tasks are common in general, but depends on what kind of models we are building, sometimes we have to do additional processing. These additional tasks will be mentioned in each of the remaining two exercises later.\n",
    "\n",
    "Note that **we will be using this processed data from exercise 1 in each of the remaining two exercises**.\n",
    "\n",
    "For convenience, here are the attributes that we would treat them as **categorical attributes**: `day`, `quarter`, `department`, and `team`. \n",
    "\n",
    " - Drop the column `date`.\n",
    " - For each of the categorical attributes, **print out** all the unique elements.\n",
    " - For each of the categorical attributes, remap the duplicated items, if you find there are typos or spaces among the duplicated items.\n",
    "     - For example, \"a\" and \"a \" should be the same, so we need to update \"a \" to be \"a\".\n",
    "     - Another example, \"apple\" and \"appel\" should be the same, so you should update \"appel\" to be \"apple\".\n",
    "     \n",
    "\n",
    " - Create another column named `satisfied` that records the productivity performance. The behavior defined as follows. **This is the dependent variable we'd like to classify in this assignment.**\n",
    "     - Return True or 1 if `actual_productivity` is equal to or greater than `targeted_productivity`. Otherwise, return False or 0, which means the team fails to meet the expected performance.\n",
    " - Drop the columns `actual_productivity` and `targeted_productivity`.\n",
    "\n",
    "\n",
    " - Find and **print out** which columns/attributes that have empty vaules, e.g., NA, NaN, null, None.\n",
    " - Fill the empty values with 0.\n"
   ]
  },
  {
   "cell_type": "code",
   "execution_count": 394,
   "metadata": {},
   "outputs": [
    {
     "name": "stdout",
     "output_type": "stream",
     "text": [
      "Unique values\n",
      "['Quarter1' 'Quarter2' 'Quarter3' 'Quarter4' 'Quarter5'] quarter\n",
      "['finishing' 'finishing ' 'sweing'] department\n",
      "['Monday' 'Saturday' 'Sunday' 'Thursday' 'Tuesday' 'Wednesday'] day\n",
      "\n",
      "Column name with na\n",
      "wip\n"
     ]
    },
    {
     "data": {
      "text/plain": "       quarter department        day  team    smv     wip  over_time  \\\n0     Quarter1     sewing   Thursday     8  26.16  1108.0       7080   \n1     Quarter1  finishing   Thursday     1   3.94     0.0        960   \n2     Quarter1     sewing   Thursday    11  11.41   968.0       3660   \n3     Quarter1     sewing   Thursday    12  11.41   968.0       3660   \n4     Quarter1     sewing   Thursday     6  25.90  1170.0       1920   \n...        ...        ...        ...   ...    ...     ...        ...   \n1192  Quarter2  finishing  Wednesday    10   2.90     0.0        960   \n1193  Quarter2  finishing  Wednesday     8   3.90     0.0        960   \n1194  Quarter2  finishing  Wednesday     7   3.90     0.0        960   \n1195  Quarter2  finishing  Wednesday     9   2.90     0.0       1800   \n1196  Quarter2  finishing  Wednesday     6   2.90     0.0        720   \n\n      incentive  idle_time  idle_men  no_of_style_change  no_of_workers  \\\n0            98        0.0         0                   0           59.0   \n1             0        0.0         0                   0            8.0   \n2            50        0.0         0                   0           30.5   \n3            50        0.0         0                   0           30.5   \n4            50        0.0         0                   0           56.0   \n...         ...        ...       ...                 ...            ...   \n1192          0        0.0         0                   0            8.0   \n1193          0        0.0         0                   0            8.0   \n1194          0        0.0         0                   0            8.0   \n1195          0        0.0         0                   0           15.0   \n1196          0        0.0         0                   0            6.0   \n\n      Satisfied  \n0             1  \n1             1  \n2             1  \n3             1  \n4             1  \n...         ...  \n1192          0  \n1193          0  \n1194          0  \n1195          0  \n1196          0  \n\n[1197 rows x 13 columns]",
      "text/html": "<div>\n<style scoped>\n    .dataframe tbody tr th:only-of-type {\n        vertical-align: middle;\n    }\n\n    .dataframe tbody tr th {\n        vertical-align: top;\n    }\n\n    .dataframe thead th {\n        text-align: right;\n    }\n</style>\n<table border=\"1\" class=\"dataframe\">\n  <thead>\n    <tr style=\"text-align: right;\">\n      <th></th>\n      <th>quarter</th>\n      <th>department</th>\n      <th>day</th>\n      <th>team</th>\n      <th>smv</th>\n      <th>wip</th>\n      <th>over_time</th>\n      <th>incentive</th>\n      <th>idle_time</th>\n      <th>idle_men</th>\n      <th>no_of_style_change</th>\n      <th>no_of_workers</th>\n      <th>Satisfied</th>\n    </tr>\n  </thead>\n  <tbody>\n    <tr>\n      <th>0</th>\n      <td>Quarter1</td>\n      <td>sewing</td>\n      <td>Thursday</td>\n      <td>8</td>\n      <td>26.16</td>\n      <td>1108.0</td>\n      <td>7080</td>\n      <td>98</td>\n      <td>0.0</td>\n      <td>0</td>\n      <td>0</td>\n      <td>59.0</td>\n      <td>1</td>\n    </tr>\n    <tr>\n      <th>1</th>\n      <td>Quarter1</td>\n      <td>finishing</td>\n      <td>Thursday</td>\n      <td>1</td>\n      <td>3.94</td>\n      <td>0.0</td>\n      <td>960</td>\n      <td>0</td>\n      <td>0.0</td>\n      <td>0</td>\n      <td>0</td>\n      <td>8.0</td>\n      <td>1</td>\n    </tr>\n    <tr>\n      <th>2</th>\n      <td>Quarter1</td>\n      <td>sewing</td>\n      <td>Thursday</td>\n      <td>11</td>\n      <td>11.41</td>\n      <td>968.0</td>\n      <td>3660</td>\n      <td>50</td>\n      <td>0.0</td>\n      <td>0</td>\n      <td>0</td>\n      <td>30.5</td>\n      <td>1</td>\n    </tr>\n    <tr>\n      <th>3</th>\n      <td>Quarter1</td>\n      <td>sewing</td>\n      <td>Thursday</td>\n      <td>12</td>\n      <td>11.41</td>\n      <td>968.0</td>\n      <td>3660</td>\n      <td>50</td>\n      <td>0.0</td>\n      <td>0</td>\n      <td>0</td>\n      <td>30.5</td>\n      <td>1</td>\n    </tr>\n    <tr>\n      <th>4</th>\n      <td>Quarter1</td>\n      <td>sewing</td>\n      <td>Thursday</td>\n      <td>6</td>\n      <td>25.90</td>\n      <td>1170.0</td>\n      <td>1920</td>\n      <td>50</td>\n      <td>0.0</td>\n      <td>0</td>\n      <td>0</td>\n      <td>56.0</td>\n      <td>1</td>\n    </tr>\n    <tr>\n      <th>...</th>\n      <td>...</td>\n      <td>...</td>\n      <td>...</td>\n      <td>...</td>\n      <td>...</td>\n      <td>...</td>\n      <td>...</td>\n      <td>...</td>\n      <td>...</td>\n      <td>...</td>\n      <td>...</td>\n      <td>...</td>\n      <td>...</td>\n    </tr>\n    <tr>\n      <th>1192</th>\n      <td>Quarter2</td>\n      <td>finishing</td>\n      <td>Wednesday</td>\n      <td>10</td>\n      <td>2.90</td>\n      <td>0.0</td>\n      <td>960</td>\n      <td>0</td>\n      <td>0.0</td>\n      <td>0</td>\n      <td>0</td>\n      <td>8.0</td>\n      <td>0</td>\n    </tr>\n    <tr>\n      <th>1193</th>\n      <td>Quarter2</td>\n      <td>finishing</td>\n      <td>Wednesday</td>\n      <td>8</td>\n      <td>3.90</td>\n      <td>0.0</td>\n      <td>960</td>\n      <td>0</td>\n      <td>0.0</td>\n      <td>0</td>\n      <td>0</td>\n      <td>8.0</td>\n      <td>0</td>\n    </tr>\n    <tr>\n      <th>1194</th>\n      <td>Quarter2</td>\n      <td>finishing</td>\n      <td>Wednesday</td>\n      <td>7</td>\n      <td>3.90</td>\n      <td>0.0</td>\n      <td>960</td>\n      <td>0</td>\n      <td>0.0</td>\n      <td>0</td>\n      <td>0</td>\n      <td>8.0</td>\n      <td>0</td>\n    </tr>\n    <tr>\n      <th>1195</th>\n      <td>Quarter2</td>\n      <td>finishing</td>\n      <td>Wednesday</td>\n      <td>9</td>\n      <td>2.90</td>\n      <td>0.0</td>\n      <td>1800</td>\n      <td>0</td>\n      <td>0.0</td>\n      <td>0</td>\n      <td>0</td>\n      <td>15.0</td>\n      <td>0</td>\n    </tr>\n    <tr>\n      <th>1196</th>\n      <td>Quarter2</td>\n      <td>finishing</td>\n      <td>Wednesday</td>\n      <td>6</td>\n      <td>2.90</td>\n      <td>0.0</td>\n      <td>720</td>\n      <td>0</td>\n      <td>0.0</td>\n      <td>0</td>\n      <td>0</td>\n      <td>6.0</td>\n      <td>0</td>\n    </tr>\n  </tbody>\n</table>\n<p>1197 rows × 13 columns</p>\n</div>"
     },
     "execution_count": 394,
     "metadata": {},
     "output_type": "execute_result"
    }
   ],
   "source": [
    "# If put the data(.csv) under the same folder, you could use\n",
    "df = pd.read_csv('./garments_worker_productivity.csv')\n",
    "df=df.drop(columns=\"date\") #Drop the column `date`.\n",
    "\n",
    "#For each of the categorical attributes, **print out** all the unique elements.\n",
    "print(\"Unique values\")\n",
    "for i in [df.quarter,df.department,df.day]:\n",
    "    print(np.unique(i),i.name)\n",
    "\n",
    "# For each of the categorical attributes,\n",
    "# remap the duplicated items, if you find there are typos or spaces among the duplicated items.\n",
    "df=df.replace(to_replace=[\"finishing \",\"sweing\"],value=[\"finishing\",\"sewing\"])\n",
    "\n",
    "#Create another column named `satisfied` that records the productivity performance. The behavior defined as follows. **This is the dependent variable.**\n",
    "satisfied=[]\n",
    "for i in df.actual_productivity>=df.targeted_productivity:\n",
    "    if i:\n",
    "        satisfied.append(1)\n",
    "    else:\n",
    "        satisfied.append(0)\n",
    "df[\"Satisfied\"]=satisfied\n",
    "\n",
    "#Drop the columns `actual_productivity` and `targeted_productivity`.\n",
    "df=df.drop(columns=[\"actual_productivity\",\"targeted_productivity\"])\n",
    "\n",
    "# Find and **print out** which columns/attributes that have empty vaules, e.g., NA, NaN, null, None.\n",
    "print(\"\\nColumn name with na\")\n",
    "for i in df.columns:\n",
    "     if df[i].isnull().values.any() or df[i].values.any()==None:\n",
    "         print(i)\n",
    "# Fill the empty values with 0.\n",
    "df=df.fillna(0)\n",
    "df"
   ]
  },
  {
   "cell_type": "markdown",
   "metadata": {},
   "source": [
    "## Exercise 2 - Naïve Bayes Classifier (40 points in total)\n",
    "\n",
    "### Exercise 2.1 - Additional Data Preprocessing (10 points)\n",
    "\n",
    "To build a Naïve Bayes Classifier, we need to further encode our categorical variables.\n",
    "\n",
    " - For each of the **categorical attribtues**, encode the set of categories to be **0 ~ (n_classes - 1)**.\n",
    "     - For example, \\[\"paris\", \"paris\", \"tokyo\", \"amsterdam\"\\] should be encoded as \\[1, 1, 2, 0\\].\n",
    "     - Note that the order does not really matter, i.e., \\[0, 0, 1, 2\\] also works. But you have to start with 0 in your encodings.\n",
    "     - You can find information about this encoding in the discussion materials.\n",
    "\n",
    "\n",
    " - Split the data into training and testing set with the ratio of 80:20."
   ]
  },
  {
   "cell_type": "code",
   "execution_count": 395,
   "metadata": {},
   "outputs": [
    {
     "name": "stderr",
     "output_type": "stream",
     "text": [
      "C:\\Users\\gerri\\AppData\\Local\\Temp\\ipykernel_40988\\3537281072.py:15: FutureWarning: Passing a set as an indexer is deprecated and will raise in a future version. Use a list instead.\n",
      "  scaled=pd.DataFrame(minmax_scale(df[numerical_col])) #At the start I just scaled all columns that werent categorical or target, rather than scaling them later.\n"
     ]
    }
   ],
   "source": [
    "# Remember to continue the task with your processed data from Exercise 1\n",
    "## Encoding the categorical attributes:\n",
    "\n",
    "\n",
    "unique_values=np.unique(df.day).tolist()\n",
    "df=df.replace(to_replace=unique_values,value=range(unique_values.__len__()))\n",
    "unique_values=np.unique(df.quarter).tolist()\n",
    "df=df.replace(to_replace=unique_values,value=range(unique_values.__len__()))\n",
    "unique_values=np.unique(df.department).tolist()\n",
    "df=df.replace(to_replace=unique_values,value=range(unique_values.__len__()))\n",
    "from sklearn.preprocessing import minmax_scale ####THIS IS FOR QUESTION 2.3##############################\n",
    "np.random.seed(1)\n",
    "df_cat_columns=[\"day\", \"quarter\", \"department\",\"team\"]\n",
    "numerical_col=set(df.columns)-set([\"day\", \"quarter\", \"department\",\"team\",\"Satisfied\"]) #selected numerical columns\n",
    "scaled=pd.DataFrame(minmax_scale(df[numerical_col])) #At the start I just scaled all columns that werent categorical or target, rather than scaling them later.\n",
    "numerical_col=list(range(0,scaled.shape[1]))\n",
    "##Split the data.\n",
    "X_train, X_test, Y_train, Y_test = sklearn.model_selection.train_test_split(pd.concat([scaled,df[df_cat_columns]],axis=1),df[\"Satisfied\"],test_size=0.2, random_state = 15)\n"
   ]
  },
  {
   "cell_type": "code",
   "execution_count": 396,
   "outputs": [
    {
     "data": {
      "text/plain": "(957, 12)"
     },
     "metadata": {},
     "output_type": "display_data"
    },
    {
     "data": {
      "text/plain": "(240, 12)"
     },
     "metadata": {},
     "output_type": "display_data"
    },
    {
     "data": {
      "text/plain": "(957,)"
     },
     "metadata": {},
     "output_type": "display_data"
    },
    {
     "data": {
      "text/plain": "(240,)"
     },
     "metadata": {},
     "output_type": "display_data"
    }
   ],
   "source": [
    "display(X_train.shape,X_test.shape,Y_train.shape,Y_test.shape)"
   ],
   "metadata": {
    "collapsed": false
   }
  },
  {
   "cell_type": "markdown",
   "metadata": {},
   "source": [
    "### Exercise 2.2 - Naïve Bayes Classifier for Categorical Attributes (15 points)\n",
    "\n",
    "Use the categorical attributes **only**, please build a Categorical Naïve Bayes classifier that predicts the column `satisfied`. <br >\n",
    "Report the **testing result** using `classification_report`."
   ]
  },
  {
   "cell_type": "code",
   "execution_count": 397,
   "metadata": {},
   "outputs": [
    {
     "name": "stdout",
     "output_type": "stream",
     "text": [
      "Accuracy of mean data 0.7541666666666667\n",
      "              precision    recall  f1-score   support\n",
      "\n",
      "           0       0.22      0.61      0.32        23\n",
      "           1       0.95      0.77      0.85       217\n",
      "\n",
      "    accuracy                           0.75       240\n",
      "   macro avg       0.58      0.69      0.59       240\n",
      "weighted avg       0.88      0.75      0.80       240\n",
      "\n"
     ]
    }
   ],
   "source": [
    "# Remember to do this task with your processed data from Exercise 2.1\n",
    "#https://scikit-learn.org/stable/modules/naive_bayes.html\n",
    "#Each feature has its own categorical distribution.\n",
    "#For each feature in the training set, in the feature set, estimate a categorical distribution for each, conditioned on y. For \"department\", what is the categorical distribution? How many are seiwng and how many are finishing, ect.\n",
    "import sklearn.naive_bayes as NaB\n",
    "from sklearn.naive_bayes import CategoricalNB\n",
    "np.random.seed(1)\n",
    "CNB_obj=CategoricalNB()                     #initialized object\n",
    "CNB_obj.fit(X=X_train[df_cat_columns],y=Y_train)\n",
    "print(\"Accuracy of mean data {}\".format(CNB_obj.score(X_test[df_cat_columns],Y_test))) #Mean accuracy of ``self.predict(X)`` wrt. `y`.\n",
    "print(sklearn.metrics.classification_report(CNB_obj.predict(X_test[df_cat_columns]),Y_test)) #classification report"
   ]
  },
  {
   "cell_type": "code",
   "execution_count": 398,
   "outputs": [
    {
     "data": {
      "text/plain": "[0, 1, 2, 3, 4, 5, 6, 7]"
     },
     "execution_count": 398,
     "metadata": {},
     "output_type": "execute_result"
    }
   ],
   "source": [
    "numerical_col"
   ],
   "metadata": {
    "collapsed": false
   }
  },
  {
   "cell_type": "markdown",
   "metadata": {},
   "source": [
    "### Exercise 2.3 - Naïve Bayes Classifier for Numerical Attributes (15 points)\n",
    "\n",
    "Use the numerical attributes **only**, please build a Gaussian Naïve Bayes classifier that predicts the column `satisfied`. <br >\n",
    "Report the **testing result** using `classification_report`.\n",
    "\n",
    "**Remember to scale your data. The scaling method is up to you.**"
   ]
  },
  {
   "cell_type": "code",
   "execution_count": 399,
   "metadata": {},
   "outputs": [
    {
     "name": "stdout",
     "output_type": "stream",
     "text": [
      "Accuracy of mean data 0.7416666666666667\n",
      "              precision    recall  f1-score   support\n",
      "\n",
      "           0       0.05      0.75      0.09         4\n",
      "           1       0.99      0.74      0.85       236\n",
      "\n",
      "    accuracy                           0.74       240\n",
      "   macro avg       0.52      0.75      0.47       240\n",
      "weighted avg       0.98      0.74      0.84       240\n",
      "\n"
     ]
    }
   ],
   "source": [
    "# Remember to do this task with your processed data from Exercise 2.1\n",
    "# So, guassian doesn't actually use probability exactly. It uses estimates of standard deviaiton and mean for numerical features, which are proxies of probability, to predict how likely somehting will happen, instead of using the posterior. Personally, I think we should have filled NaN with mean instead, cause now distributions will be shifted.\n",
    "from sklearn.naive_bayes import GaussianNB\n",
    "from sklearn.preprocessing import StandardScaler\n",
    "np.random.seed(1)\n",
    "\"All numerical data was already scaled. Look in 2.1\"#fits and transforms the inputed data into a zscore.\n",
    "CNB_obj=GaussianNB()  #initialized object\n",
    "CNB_obj.fit(X=X_train[numerical_col],y=Y_train)\n",
    "print(\"Accuracy of mean data {}\".format(CNB_obj.score(X_test[numerical_col],Y_test))) #Mean accuracy of ``self.predict(X)`` wrt. `y`.\n",
    "print(sklearn.metrics.classification_report(CNB_obj.predict(X_test[numerical_col]),Y_test)) #classification report"
   ]
  },
  {
   "cell_type": "code",
   "execution_count": 400,
   "outputs": [
    {
     "data": {
      "text/plain": "       0         1         2         3         4    5    6         7  day  \\\n126  0.0  0.055556  0.020132  0.068966  0.000000  0.0  0.0  0.000000    3   \n305  0.0  0.141204  0.450252  0.655172  0.059727  0.0  0.0  0.013889    2   \n419  0.0  0.062500  0.020132  0.080460  0.000000  0.0  0.0  0.000000    2   \n598  0.0  0.268519  0.526520  0.643678  0.017948  0.0  0.0  0.000000    4   \n161  0.0  0.211806  0.164731  0.327586  0.038362  0.0  0.0  0.013889    1   \n..   ...       ...       ...       ...       ...  ...  ...       ...  ...   \n695  0.0  0.000000  0.379791  0.632184  0.066863  0.0  0.0  0.024444    4   \n821  0.5  0.259259  0.530972  0.620690  0.036243  0.0  0.0  0.000000    4   \n211  0.0  0.368056  0.186218  0.586207  0.043422  0.0  0.0  0.012222    0   \n684  0.0  0.000000  0.138405  0.597701  0.004455  0.0  0.0  0.012500    0   \n142  0.0  0.055556  0.000000  0.068966  0.000000  0.0  0.0  0.000000    3   \n\n     quarter  department  team  \n126        1           0     1  \n305        2           1     9  \n419        3           0     3  \n598        0           1     5  \n161        1           1     6  \n..       ...         ...   ...  \n695        1           1     1  \n821        2           1     2  \n211        1           1    11  \n684        1           1    11  \n142        1           0     8  \n\n[240 rows x 12 columns]",
      "text/html": "<div>\n<style scoped>\n    .dataframe tbody tr th:only-of-type {\n        vertical-align: middle;\n    }\n\n    .dataframe tbody tr th {\n        vertical-align: top;\n    }\n\n    .dataframe thead th {\n        text-align: right;\n    }\n</style>\n<table border=\"1\" class=\"dataframe\">\n  <thead>\n    <tr style=\"text-align: right;\">\n      <th></th>\n      <th>0</th>\n      <th>1</th>\n      <th>2</th>\n      <th>3</th>\n      <th>4</th>\n      <th>5</th>\n      <th>6</th>\n      <th>7</th>\n      <th>day</th>\n      <th>quarter</th>\n      <th>department</th>\n      <th>team</th>\n    </tr>\n  </thead>\n  <tbody>\n    <tr>\n      <th>126</th>\n      <td>0.0</td>\n      <td>0.055556</td>\n      <td>0.020132</td>\n      <td>0.068966</td>\n      <td>0.000000</td>\n      <td>0.0</td>\n      <td>0.0</td>\n      <td>0.000000</td>\n      <td>3</td>\n      <td>1</td>\n      <td>0</td>\n      <td>1</td>\n    </tr>\n    <tr>\n      <th>305</th>\n      <td>0.0</td>\n      <td>0.141204</td>\n      <td>0.450252</td>\n      <td>0.655172</td>\n      <td>0.059727</td>\n      <td>0.0</td>\n      <td>0.0</td>\n      <td>0.013889</td>\n      <td>2</td>\n      <td>2</td>\n      <td>1</td>\n      <td>9</td>\n    </tr>\n    <tr>\n      <th>419</th>\n      <td>0.0</td>\n      <td>0.062500</td>\n      <td>0.020132</td>\n      <td>0.080460</td>\n      <td>0.000000</td>\n      <td>0.0</td>\n      <td>0.0</td>\n      <td>0.000000</td>\n      <td>2</td>\n      <td>3</td>\n      <td>0</td>\n      <td>3</td>\n    </tr>\n    <tr>\n      <th>598</th>\n      <td>0.0</td>\n      <td>0.268519</td>\n      <td>0.526520</td>\n      <td>0.643678</td>\n      <td>0.017948</td>\n      <td>0.0</td>\n      <td>0.0</td>\n      <td>0.000000</td>\n      <td>4</td>\n      <td>0</td>\n      <td>1</td>\n      <td>5</td>\n    </tr>\n    <tr>\n      <th>161</th>\n      <td>0.0</td>\n      <td>0.211806</td>\n      <td>0.164731</td>\n      <td>0.327586</td>\n      <td>0.038362</td>\n      <td>0.0</td>\n      <td>0.0</td>\n      <td>0.013889</td>\n      <td>1</td>\n      <td>1</td>\n      <td>1</td>\n      <td>6</td>\n    </tr>\n    <tr>\n      <th>...</th>\n      <td>...</td>\n      <td>...</td>\n      <td>...</td>\n      <td>...</td>\n      <td>...</td>\n      <td>...</td>\n      <td>...</td>\n      <td>...</td>\n      <td>...</td>\n      <td>...</td>\n      <td>...</td>\n      <td>...</td>\n    </tr>\n    <tr>\n      <th>695</th>\n      <td>0.0</td>\n      <td>0.000000</td>\n      <td>0.379791</td>\n      <td>0.632184</td>\n      <td>0.066863</td>\n      <td>0.0</td>\n      <td>0.0</td>\n      <td>0.024444</td>\n      <td>4</td>\n      <td>1</td>\n      <td>1</td>\n      <td>1</td>\n    </tr>\n    <tr>\n      <th>821</th>\n      <td>0.5</td>\n      <td>0.259259</td>\n      <td>0.530972</td>\n      <td>0.620690</td>\n      <td>0.036243</td>\n      <td>0.0</td>\n      <td>0.0</td>\n      <td>0.000000</td>\n      <td>4</td>\n      <td>2</td>\n      <td>1</td>\n      <td>2</td>\n    </tr>\n    <tr>\n      <th>211</th>\n      <td>0.0</td>\n      <td>0.368056</td>\n      <td>0.186218</td>\n      <td>0.586207</td>\n      <td>0.043422</td>\n      <td>0.0</td>\n      <td>0.0</td>\n      <td>0.012222</td>\n      <td>0</td>\n      <td>1</td>\n      <td>1</td>\n      <td>11</td>\n    </tr>\n    <tr>\n      <th>684</th>\n      <td>0.0</td>\n      <td>0.000000</td>\n      <td>0.138405</td>\n      <td>0.597701</td>\n      <td>0.004455</td>\n      <td>0.0</td>\n      <td>0.0</td>\n      <td>0.012500</td>\n      <td>0</td>\n      <td>1</td>\n      <td>1</td>\n      <td>11</td>\n    </tr>\n    <tr>\n      <th>142</th>\n      <td>0.0</td>\n      <td>0.055556</td>\n      <td>0.000000</td>\n      <td>0.068966</td>\n      <td>0.000000</td>\n      <td>0.0</td>\n      <td>0.0</td>\n      <td>0.000000</td>\n      <td>3</td>\n      <td>1</td>\n      <td>0</td>\n      <td>8</td>\n    </tr>\n  </tbody>\n</table>\n<p>240 rows × 12 columns</p>\n</div>"
     },
     "execution_count": 400,
     "metadata": {},
     "output_type": "execute_result"
    }
   ],
   "source": [
    "X_test"
   ],
   "metadata": {
    "collapsed": false
   }
  },
  {
   "cell_type": "markdown",
   "metadata": {},
   "source": [
    "## Exercies 3 - SVM Classifier (40 points in total)\n",
    "\n",
    "### Exercise 3.1 - Additional Data Preprocessing (10 points)\n",
    "\n",
    "To build a SVM Classifier, we need a different encoding for our categorical variables.\n",
    "\n",
    " - For each of the **categorical attribtues**, encode them with **one-hot encoding**.\n",
    "     - You can find information about this encoding in the discussion materials.\n",
    "\n",
    "\n",
    " - Split the data into training and testing set with the ratio of 80:20.\n"
   ]
  },
  {
   "cell_type": "code",
   "execution_count": 401,
   "outputs": [],
   "source": [
    "#selected categorical columns\n",
    "df_cat_columns=[\"quarter\",\"department\",\"day\",\"team\"]\n",
    "\n",
    "###ENCODE\n",
    "hot_mapper=sklearn.preprocessing.OneHotEncoder()\n",
    "hot_mapper.fit(df[df_cat_columns])\n",
    "encoded_xtrain=hot_mapper.transform(X_train[df_cat_columns]).toarray() #- For each of the **categorical attribtues**, encode them with **one-hot encoding**.\n",
    "encoded_xtest=hot_mapper.transform(X_test[df_cat_columns]).toarray() #- For each of the **categorical attribtues**, encode them with **one-hot encoding**.\n",
    "\n",
    "###Recreate the training data....\n",
    "X_train=pd.DataFrame(np.concatenate([X_train.drop(columns=[\"quarter\",\"department\",\"day\",\"team\"]),encoded_xtrain],axis=1))\n",
    "X_test=pd.DataFrame(np.concatenate([X_test.drop(columns=[\"quarter\",\"department\",\"day\",\"team\"]),encoded_xtest],axis=1))"
   ],
   "metadata": {
    "collapsed": false
   }
  },
  {
   "cell_type": "code",
   "execution_count": 402,
   "outputs": [
    {
     "data": {
      "text/plain": "      0         1         2         3         4         5         6   \\\n0    0.0  0.157407  0.307588  0.367816  0.035205  0.000000  0.000000   \n1    0.0  0.027778  0.000000  0.022989  0.000000  0.000000  0.000000   \n2    0.0  0.402778  0.507549  0.643678  0.041951  0.000000  0.000000   \n3    0.0  0.046296  0.019357  0.091954  0.000000  0.000000  0.000000   \n4    0.0  0.268519  0.526520  0.643678  0.040394  0.333333  0.011667   \n..   ...       ...       ...       ...       ...       ...       ...   \n952  0.0  0.069444  0.024197  0.091954  0.000000  0.000000  0.000000   \n953  0.0  0.125000  0.138405  0.287356  0.027204  0.000000  0.000000   \n954  0.0  0.055556  0.024197  0.068966  0.000000  0.000000  0.000000   \n955  0.0  0.578704  0.020132  0.264368  0.000000  0.000000  0.000000   \n956  0.0  0.268519  0.507549  0.643678  0.035853  0.000000  0.000000   \n\n           7    8    9   ...   23   24   25   26   27   28   29   30   31   32  \n0    0.000000  0.0  0.0  ...  0.0  0.0  0.0  1.0  0.0  0.0  0.0  0.0  0.0  0.0  \n1    0.000000  0.0  0.0  ...  0.0  0.0  0.0  0.0  0.0  1.0  0.0  0.0  0.0  0.0  \n2    0.008333  0.0  0.0  ...  0.0  0.0  0.0  0.0  0.0  0.0  1.0  0.0  0.0  0.0  \n3    0.000000  1.0  0.0  ...  0.0  0.0  0.0  0.0  0.0  0.0  0.0  0.0  0.0  0.0  \n4    0.000000  1.0  0.0  ...  0.0  0.0  0.0  0.0  1.0  0.0  0.0  0.0  0.0  0.0  \n..        ...  ...  ...  ...  ...  ...  ...  ...  ...  ...  ...  ...  ...  ...  \n952  0.000000  1.0  0.0  ...  1.0  0.0  0.0  0.0  0.0  0.0  0.0  0.0  0.0  0.0  \n953  0.012500  0.0  1.0  ...  0.0  0.0  0.0  0.0  0.0  0.0  0.0  0.0  1.0  0.0  \n954  0.000000  0.0  1.0  ...  0.0  0.0  0.0  0.0  0.0  0.0  0.0  0.0  1.0  0.0  \n955  0.000000  0.0  0.0  ...  0.0  0.0  0.0  0.0  0.0  0.0  0.0  0.0  0.0  0.0  \n956  0.013889  1.0  0.0  ...  0.0  0.0  0.0  0.0  0.0  0.0  1.0  0.0  0.0  0.0  \n\n[957 rows x 33 columns]",
      "text/html": "<div>\n<style scoped>\n    .dataframe tbody tr th:only-of-type {\n        vertical-align: middle;\n    }\n\n    .dataframe tbody tr th {\n        vertical-align: top;\n    }\n\n    .dataframe thead th {\n        text-align: right;\n    }\n</style>\n<table border=\"1\" class=\"dataframe\">\n  <thead>\n    <tr style=\"text-align: right;\">\n      <th></th>\n      <th>0</th>\n      <th>1</th>\n      <th>2</th>\n      <th>3</th>\n      <th>4</th>\n      <th>5</th>\n      <th>6</th>\n      <th>7</th>\n      <th>8</th>\n      <th>9</th>\n      <th>...</th>\n      <th>23</th>\n      <th>24</th>\n      <th>25</th>\n      <th>26</th>\n      <th>27</th>\n      <th>28</th>\n      <th>29</th>\n      <th>30</th>\n      <th>31</th>\n      <th>32</th>\n    </tr>\n  </thead>\n  <tbody>\n    <tr>\n      <th>0</th>\n      <td>0.0</td>\n      <td>0.157407</td>\n      <td>0.307588</td>\n      <td>0.367816</td>\n      <td>0.035205</td>\n      <td>0.000000</td>\n      <td>0.000000</td>\n      <td>0.000000</td>\n      <td>0.0</td>\n      <td>0.0</td>\n      <td>...</td>\n      <td>0.0</td>\n      <td>0.0</td>\n      <td>0.0</td>\n      <td>1.0</td>\n      <td>0.0</td>\n      <td>0.0</td>\n      <td>0.0</td>\n      <td>0.0</td>\n      <td>0.0</td>\n      <td>0.0</td>\n    </tr>\n    <tr>\n      <th>1</th>\n      <td>0.0</td>\n      <td>0.027778</td>\n      <td>0.000000</td>\n      <td>0.022989</td>\n      <td>0.000000</td>\n      <td>0.000000</td>\n      <td>0.000000</td>\n      <td>0.000000</td>\n      <td>0.0</td>\n      <td>0.0</td>\n      <td>...</td>\n      <td>0.0</td>\n      <td>0.0</td>\n      <td>0.0</td>\n      <td>0.0</td>\n      <td>0.0</td>\n      <td>1.0</td>\n      <td>0.0</td>\n      <td>0.0</td>\n      <td>0.0</td>\n      <td>0.0</td>\n    </tr>\n    <tr>\n      <th>2</th>\n      <td>0.0</td>\n      <td>0.402778</td>\n      <td>0.507549</td>\n      <td>0.643678</td>\n      <td>0.041951</td>\n      <td>0.000000</td>\n      <td>0.000000</td>\n      <td>0.008333</td>\n      <td>0.0</td>\n      <td>0.0</td>\n      <td>...</td>\n      <td>0.0</td>\n      <td>0.0</td>\n      <td>0.0</td>\n      <td>0.0</td>\n      <td>0.0</td>\n      <td>0.0</td>\n      <td>1.0</td>\n      <td>0.0</td>\n      <td>0.0</td>\n      <td>0.0</td>\n    </tr>\n    <tr>\n      <th>3</th>\n      <td>0.0</td>\n      <td>0.046296</td>\n      <td>0.019357</td>\n      <td>0.091954</td>\n      <td>0.000000</td>\n      <td>0.000000</td>\n      <td>0.000000</td>\n      <td>0.000000</td>\n      <td>1.0</td>\n      <td>0.0</td>\n      <td>...</td>\n      <td>0.0</td>\n      <td>0.0</td>\n      <td>0.0</td>\n      <td>0.0</td>\n      <td>0.0</td>\n      <td>0.0</td>\n      <td>0.0</td>\n      <td>0.0</td>\n      <td>0.0</td>\n      <td>0.0</td>\n    </tr>\n    <tr>\n      <th>4</th>\n      <td>0.0</td>\n      <td>0.268519</td>\n      <td>0.526520</td>\n      <td>0.643678</td>\n      <td>0.040394</td>\n      <td>0.333333</td>\n      <td>0.011667</td>\n      <td>0.000000</td>\n      <td>1.0</td>\n      <td>0.0</td>\n      <td>...</td>\n      <td>0.0</td>\n      <td>0.0</td>\n      <td>0.0</td>\n      <td>0.0</td>\n      <td>1.0</td>\n      <td>0.0</td>\n      <td>0.0</td>\n      <td>0.0</td>\n      <td>0.0</td>\n      <td>0.0</td>\n    </tr>\n    <tr>\n      <th>...</th>\n      <td>...</td>\n      <td>...</td>\n      <td>...</td>\n      <td>...</td>\n      <td>...</td>\n      <td>...</td>\n      <td>...</td>\n      <td>...</td>\n      <td>...</td>\n      <td>...</td>\n      <td>...</td>\n      <td>...</td>\n      <td>...</td>\n      <td>...</td>\n      <td>...</td>\n      <td>...</td>\n      <td>...</td>\n      <td>...</td>\n      <td>...</td>\n      <td>...</td>\n      <td>...</td>\n    </tr>\n    <tr>\n      <th>952</th>\n      <td>0.0</td>\n      <td>0.069444</td>\n      <td>0.024197</td>\n      <td>0.091954</td>\n      <td>0.000000</td>\n      <td>0.000000</td>\n      <td>0.000000</td>\n      <td>0.000000</td>\n      <td>1.0</td>\n      <td>0.0</td>\n      <td>...</td>\n      <td>1.0</td>\n      <td>0.0</td>\n      <td>0.0</td>\n      <td>0.0</td>\n      <td>0.0</td>\n      <td>0.0</td>\n      <td>0.0</td>\n      <td>0.0</td>\n      <td>0.0</td>\n      <td>0.0</td>\n    </tr>\n    <tr>\n      <th>953</th>\n      <td>0.0</td>\n      <td>0.125000</td>\n      <td>0.138405</td>\n      <td>0.287356</td>\n      <td>0.027204</td>\n      <td>0.000000</td>\n      <td>0.000000</td>\n      <td>0.012500</td>\n      <td>0.0</td>\n      <td>1.0</td>\n      <td>...</td>\n      <td>0.0</td>\n      <td>0.0</td>\n      <td>0.0</td>\n      <td>0.0</td>\n      <td>0.0</td>\n      <td>0.0</td>\n      <td>0.0</td>\n      <td>0.0</td>\n      <td>1.0</td>\n      <td>0.0</td>\n    </tr>\n    <tr>\n      <th>954</th>\n      <td>0.0</td>\n      <td>0.055556</td>\n      <td>0.024197</td>\n      <td>0.068966</td>\n      <td>0.000000</td>\n      <td>0.000000</td>\n      <td>0.000000</td>\n      <td>0.000000</td>\n      <td>0.0</td>\n      <td>1.0</td>\n      <td>...</td>\n      <td>0.0</td>\n      <td>0.0</td>\n      <td>0.0</td>\n      <td>0.0</td>\n      <td>0.0</td>\n      <td>0.0</td>\n      <td>0.0</td>\n      <td>0.0</td>\n      <td>1.0</td>\n      <td>0.0</td>\n    </tr>\n    <tr>\n      <th>955</th>\n      <td>0.0</td>\n      <td>0.578704</td>\n      <td>0.020132</td>\n      <td>0.264368</td>\n      <td>0.000000</td>\n      <td>0.000000</td>\n      <td>0.000000</td>\n      <td>0.000000</td>\n      <td>0.0</td>\n      <td>0.0</td>\n      <td>...</td>\n      <td>0.0</td>\n      <td>0.0</td>\n      <td>0.0</td>\n      <td>0.0</td>\n      <td>0.0</td>\n      <td>0.0</td>\n      <td>0.0</td>\n      <td>0.0</td>\n      <td>0.0</td>\n      <td>0.0</td>\n    </tr>\n    <tr>\n      <th>956</th>\n      <td>0.0</td>\n      <td>0.268519</td>\n      <td>0.507549</td>\n      <td>0.643678</td>\n      <td>0.035853</td>\n      <td>0.000000</td>\n      <td>0.000000</td>\n      <td>0.013889</td>\n      <td>1.0</td>\n      <td>0.0</td>\n      <td>...</td>\n      <td>0.0</td>\n      <td>0.0</td>\n      <td>0.0</td>\n      <td>0.0</td>\n      <td>0.0</td>\n      <td>0.0</td>\n      <td>1.0</td>\n      <td>0.0</td>\n      <td>0.0</td>\n      <td>0.0</td>\n    </tr>\n  </tbody>\n</table>\n<p>957 rows × 33 columns</p>\n</div>"
     },
     "execution_count": 402,
     "metadata": {},
     "output_type": "execute_result"
    }
   ],
   "source": [
    "X_train"
   ],
   "metadata": {
    "collapsed": false
   }
  },
  {
   "cell_type": "markdown",
   "metadata": {},
   "source": [
    "### Exercise 3.2 - SVM with Different Kernels (20 points)\n",
    "\n",
    "Using all the attributes we have, please build a SVM that predicts the column `satisfied`. <br >\n",
    "Specifically, please \n",
    " - Build one SVM with **linear kernel**.\n",
    " - Build another SVM but with **rbf kernel**.\n",
    " - Report the **testing results** of **both models** using `classification report`.\n",
    "\n",
    "The kernel is the only setting requirement. <br >\n",
    "Other hyperparameter tuning is not required. But make sure they are the same in these two SVMs if you'd like to tune the model. In other words, the only difference between the two SVMs should be the kernel setting.\n",
    "\n",
    "**Remember to scale your data. The scaling method is up to you.**"
   ]
  },
  {
   "cell_type": "code",
   "execution_count": 403,
   "metadata": {},
   "outputs": [
    {
     "name": "stdout",
     "output_type": "stream",
     "text": [
      "linear \n",
      "               precision    recall  f1-score   support\n",
      "\n",
      "           0       1.00      0.05      0.09        64\n",
      "           1       0.74      1.00      0.85       176\n",
      "\n",
      "    accuracy                           0.75       240\n",
      "   macro avg       0.87      0.52      0.47       240\n",
      "weighted avg       0.81      0.75      0.65       240\n",
      "\n",
      "rbf \n",
      "               precision    recall  f1-score   support\n",
      "\n",
      "           0       0.71      0.23      0.35        64\n",
      "           1       0.78      0.97      0.86       176\n",
      "\n",
      "    accuracy                           0.77       240\n",
      "   macro avg       0.75      0.60      0.61       240\n",
      "weighted avg       0.76      0.77      0.73       240\n",
      "\n"
     ]
    }
   ],
   "source": [
    "# Remember to do this task with your processed data from Exercise 3.1\n",
    "from sklearn.svm import SVC\n",
    "#####Building a dataframe using all attributes... replacing categorical\n",
    "for i in [\"linear\",\"rbf\"]:\n",
    "    clf_li = SVC(kernel=i)          #Build a linear and rbf kernel svm\n",
    "    clf_li.fit(X=X_train,y=Y_train)\n",
    "    print(i,\"\\n\",sklearn.metrics.classification_report(y_pred=clf_li.predict(X=X_test),y_true=Y_test))#testing results of both models."
   ]
  },
  {
   "cell_type": "markdown",
   "metadata": {},
   "source": [
    "### Exercise 3.3 - SVM with Over-sampling (10 points)\n",
    " - For the column `satisfied` in our **training set**, please **print out** the frequency of each class. \n",
    " - Oversample the **training data**. \n",
    " - For the column `satisfied` in the oversampled data, **print out** the frequency of each class  again.\n",
    " - Re-build the 2 SVMs with the same setting you have in Exercise 3.2, but **use oversampled training data** instead.\n",
    "     - Do not forget to scale the data first. As always, the scaling method is up to you.\n",
    " - Report the **testing result** with `classification_report`.\n",
    "\n",
    "You can use ANY methods listed on [here](https://imbalanced-learn.org/stable/references/over_sampling.html#) such as RandomOverSampler or SMOTE. <br > \n",
    "You are definitely welcomed to build your own oversampler. <br >\n",
    "\n",
    "Note that you do not have to over-sample your testing data."
   ]
  },
  {
   "cell_type": "code",
   "execution_count": 404,
   "metadata": {},
   "outputs": [
    {
     "name": "stdout",
     "output_type": "stream",
     "text": [
      "Pre_oversample\n",
      " Satisfied\n",
      "1    699\n",
      "0    258\n",
      "dtype: int64\n",
      "oversampled\n",
      " 0    699\n",
      "1    699\n",
      "Name: Satisfied, dtype: int64\n"
     ]
    }
   ],
   "source": [
    "# Remember to do this task with your processed data from Exercise 3.1\n",
    "TRAIN=pd.concat([X_train,Y_train.reset_index(drop=True,inplace=False)],axis=1)\n",
    "print(\"Pre_oversample\\n\",TRAIN.value_counts(subset=Y_train.name)) #Print out frequency of each class\n",
    "from imblearn.over_sampling import RandomOverSampler\n",
    "ros = RandomOverSampler(random_state=21)\n",
    "X_os_train, Y_os_train=ros.fit_resample(X=TRAIN.drop(columns=\"Satisfied\"),y=TRAIN[\"Satisfied\"])      #Oversampled the data\n",
    "print(\"oversampled\\n\",Y_os_train.value_counts()) #class frequency"
   ]
  },
  {
   "cell_type": "markdown",
   "source": [
    "## Dont need to rescale the data, since categorical data is one hot, and the data was already scaled before oversampling. Therefore, ROS is going to duplicate SCALED DATA."
   ],
   "metadata": {
    "collapsed": false
   }
  },
  {
   "cell_type": "code",
   "execution_count": 405,
   "outputs": [
    {
     "name": "stdout",
     "output_type": "stream",
     "text": [
      "linear \n",
      "               precision    recall  f1-score   support\n",
      "\n",
      "           0       1.00      0.05      0.09        64\n",
      "           1       0.74      1.00      0.85       176\n",
      "\n",
      "    accuracy                           0.75       240\n",
      "   macro avg       0.87      0.52      0.47       240\n",
      "weighted avg       0.81      0.75      0.65       240\n",
      "\n",
      "rbf \n",
      "               precision    recall  f1-score   support\n",
      "\n",
      "           0       0.71      0.23      0.35        64\n",
      "           1       0.78      0.97      0.86       176\n",
      "\n",
      "    accuracy                           0.77       240\n",
      "   macro avg       0.75      0.60      0.61       240\n",
      "weighted avg       0.76      0.77      0.73       240\n",
      "\n"
     ]
    }
   ],
   "source": [
    "for i in [\"linear\",\"rbf\"]:\n",
    "    clf_li = SVC(kernel=i)          #Build a linear and rbf kernel svm\n",
    "    clf_li.fit(X=X_train,y=Y_train)\n",
    "    print(i,\"\\n\",sklearn.metrics.classification_report(y_pred=clf_li.predict(X=X_test),y_true=Y_test))"
   ],
   "metadata": {
    "collapsed": false
   }
  },
  {
   "cell_type": "markdown",
   "metadata": {},
   "source": [
    "## Exercise 4 - Collaborative Statement (5 points) \n",
    "### You must fill this out even if you worked alone to get credit.\n",
    "\n",
    "It is mandatory to include a Statement of Collaboration in each submission, that follows the guidelines below.\n",
    "Include the names of everyone involved in the discussions (especially in-person ones), and what was discussed.\n",
    "All students are required to follow the academic honesty guidelines posted on the course website. For\n",
    "programming assignments in particular, I encourage students to organize (perhaps using Piazza) to discuss the\n",
    "task descriptions, requirements, possible bugs in the support code, and the relevant technical content before they\n",
    "start working on it. However, you should not discuss the specific solutions, and as a guiding principle, you are\n",
    "not allowed to take anything written or drawn away from these discussions (no photographs of the blackboard,\n",
    "written notes, referring to Piazza, etc.). Especially after you have started working on the assignment, try to restrict\n",
    "the discussion to Piazza as much as possible, so that there is no doubt as to the extent of your collaboration."
   ]
  },
  {
   "cell_type": "code",
   "execution_count": 406,
   "metadata": {},
   "outputs": [],
   "source": [
    "# Got help learning the replace method for Pandas during office hours 11/17/2022 from fellow student. Got help from Piazza. Talked to Dechen during 11/23 office hours."
   ]
  }
 ],
 "metadata": {
  "kernelspec": {
   "display_name": "Python 3 (ipykernel)",
   "language": "python",
   "name": "python3"
  },
  "language_info": {
   "codemirror_mode": {
    "name": "ipython",
    "version": 3
   },
   "file_extension": ".py",
   "mimetype": "text/x-python",
   "name": "python",
   "nbconvert_exporter": "python",
   "pygments_lexer": "ipython3",
   "version": "3.8.10"
  }
 },
 "nbformat": 4,
 "nbformat_minor": 4
}
