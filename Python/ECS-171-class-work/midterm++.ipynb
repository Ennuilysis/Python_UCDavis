{
 "cells": [
  {
   "cell_type": "code",
   "execution_count": 1,
   "metadata": {
    "collapsed": true
   },
   "outputs": [],
   "source": [
    "import keras\n",
    "#Question 3.1\n",
    "#third blank\n",
    "#in the margin\n",
    "from sklearn.model_selection import train_test_split"
   ]
  },
  {
   "cell_type": "code",
   "execution_count": null,
   "outputs": [],
   "source": [
    "#Question 7\n",
    "X_train, X_test, y_train, y_test = train_test_split(X, y, random_state=29, test_size=0.35,train_size=0.65)\n"
   ],
   "metadata": {
    "collapsed": false
   }
  },
  {
   "cell_type": "code",
   "execution_count": null,
   "outputs": [],
   "source": [
    "#Question 12\n",
    "Lin=LinearRegression() #create model\n",
    "Lin.fit(x_train,y_train) #fit model\n",
    "yhat=Lin.predict(x_test) #make predictions\n",
    "MSE=(sum((y_test-yhat)**2))**0.5 #calculate mean square error"
   ],
   "metadata": {
    "collapsed": false
   }
  },
  {
   "cell_type": "code",
   "execution_count": null,
   "outputs": [],
   "source": [
    "#Question 13.2\n",
    "22*22"
   ],
   "metadata": {
    "collapsed": false
   }
  },
  {
   "cell_type": "code",
   "execution_count": 5,
   "outputs": [
    {
     "name": "stdout",
     "output_type": "stream",
     "text": [
      "[4.526 3.585 3.521 ... 0.923 0.847 0.894]\n"
     ]
    }
   ],
   "source": [
    "import pandas as pd\n",
    "from sklearn.model_selection import train_test_split\n",
    "from sklearn.datasets import fetch_california_housing\n",
    "\n",
    "housing = fetch_california_housing()\n",
    "X = housing.data\n",
    "y = housing.target\n",
    "X_train, X_test, y_train, y_test = train_test_split(X, y, random_state = 0)\n",
    "\n",
    "\n",
    "# Follow the requirements in the question\n",
    "# Use the following libraries only:\n",
    "from keras.models import Sequential\n",
    "from keras.layers import Dense\n",
    "# Build your network using the following classified\n",
    "\n",
    "y_median_test=[]\n",
    "ytest=sorted(y_test)\n",
    "median_ytest=ytest[ytest.__len__()/2]\n",
    "y_median_train=[]\n",
    "ytrain=sorted(y_train)\n",
    "median_ytrain=ytrain[ytest.__len__()/2]             ##Find medians of train and test\n",
    "\n",
    "for i in ytest:\n",
    "    if i>median_ytest:\n",
    "        y_median_test.append(1)\n",
    "    else:\n",
    "        y_median_test.append(0)\n",
    "y_test=y_median_test\n",
    "\n",
    "for i in ytrain:\n",
    "    if i>median_ytrain:\n",
    "        y_median_train.append(1)\n",
    "    else:\n",
    "        y_median_train.append(0)\n",
    "y_test=y_median_test\n",
    "y_train=y_median_train              #classified y as above or below the median\n",
    "classifier = Sequential(\n",
    "    [\n",
    "        Dense(4, activation=\"linear\", name=\"layer1\"),\n",
    "        Dense(6, activation=\"tanh\", name=\"layer2\"),\n",
    "        Dense(2, activation=\"sigmoid\",name=\"layer3\"),\n",
    "    ]\n",
    ")"
   ],
   "metadata": {
    "collapsed": false
   }
  },
  {
   "cell_type": "code",
   "execution_count": null,
   "outputs": [],
   "source": [
    "#Question 20\n",
    "xtest=X[-40:]\n",
    "xtrain=X[:-40]\n",
    "ytest=Y[-40:]\n",
    "ytrain=Y[:-40]"
   ],
   "metadata": {
    "collapsed": false
   }
  }
 ],
 "metadata": {
  "kernelspec": {
   "display_name": "Python 3",
   "language": "python",
   "name": "python3"
  },
  "language_info": {
   "codemirror_mode": {
    "name": "ipython",
    "version": 2
   },
   "file_extension": ".py",
   "mimetype": "text/x-python",
   "name": "python",
   "nbconvert_exporter": "python",
   "pygments_lexer": "ipython2",
   "version": "2.7.6"
  }
 },
 "nbformat": 4,
 "nbformat_minor": 0
}
