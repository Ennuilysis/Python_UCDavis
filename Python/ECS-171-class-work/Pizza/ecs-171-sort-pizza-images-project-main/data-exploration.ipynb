{
 "cells": [
  {
   "cell_type": "code",
   "execution_count": 1,
   "metadata": {},
   "outputs": [],
   "source": [
    "# Install packages\n",
    "import matplotlib\n",
    "import numpy"
   ]
  },
  {
   "cell_type": "code",
   "execution_count": 2,
   "metadata": {},
   "outputs": [],
   "source": [
    "# get data from github\n",
    "\n",
    "#"
   ]
  },
  {
   "cell_type": "code",
   "execution_count": 3,
   "metadata": {
    "scrolled": false
   },
   "outputs": [
    {
     "name": "stderr",
     "output_type": "stream",
     "text": [
      "c:\\users\\gerri\\appdata\\local\\programs\\python\\python39\\lib\\site-packages\\requests\\__init__.py:109: RequestsDependencyWarning: urllib3 (1.26.12) or chardet (None)/charset_normalizer (3.0.1) doesn't match a supported version!\n",
      "  warnings.warn(\n"
     ]
    }
   ],
   "source": [
    "import tensorflow as tf\n",
    "import os"
   ]
  },
  {
   "cell_type": "code",
   "execution_count": 4,
   "metadata": {},
   "outputs": [
    {
     "name": "stdout",
     "output_type": "stream",
     "text": [
      "Number of pizza images: 983\n",
      "Number of non-pizza images: 983\n",
      "Total number of images: 1966\n"
     ]
    }
   ],
   "source": [
    "# define the directories where the imgaes are\n",
    "pizza_directory=\"./pizza/\"\n",
    "not_pizza_directory=\"./not_pizza/\"\n",
    "\n",
    "# get the images from the directories\n",
    "\n",
    "not_pizza_files=[[0, not_pizza_directory, i] for i in os.listdir(not_pizza_directory)]\n",
    "pizza_files=[[1, pizza_directory, i] for i in os.listdir(pizza_directory)]\n",
    "\n",
    "print(\"Number of pizza images:\",len(pizza_files))\n",
    "print(\"Number of non-pizza images:\",len(not_pizza_files))\n",
    "\n",
    "# combine the image sets\n",
    "\n",
    "all_files = not_pizza_files + pizza_files\n",
    "\n",
    "print(\"Total number of images:\", len(all_files))\n",
    "\n",
    "# each element in all_files is of the format [is_pizza: boolean, directory: string, filename: string]\n",
    "# in other words, for each `img` in `all_files`:\n",
    "#    - img[0] = 0 if not pizza, 1 if pizza\n",
    "#    - img[1] = directory where the image is\n",
    "#    - img[2] = file name"
   ]
  },
  {
   "cell_type": "code",
   "execution_count": 5,
   "metadata": {},
   "outputs": [
    {
     "data": {
      "text/plain": "<Figure size 640x480 with 1 Axes>",
      "image/png": "[encoded data removed]"
     },
     "metadata": {},
     "output_type": "display_data"
    }
   ],
   "source": [
    "# this is not necessary, but we're doing it just incase\n",
    "\n",
    "# plotting \n",
    "\n",
    "import matplotlib.pyplot as plt\n",
    "\n",
    "classes = []\n",
    "\n",
    "for img in all_files:\n",
    "    classes.append(img[0])\n",
    "\n",
    "plt.hist(classes)\n",
    "plt.show()"
   ]
  },
  {
   "cell_type": "code",
   "execution_count": null,
   "metadata": {},
   "outputs": [],
   "source": [
    "# We have two classes: Pizza and Not Pizza. We have 983 images each"
   ]
  },
  {
   "cell_type": "code",
   "execution_count": 6,
   "metadata": {},
   "outputs": [
    {
     "name": "stdout",
     "output_type": "stream",
     "text": [
      "Image (Lenght, width):count\n",
      " (512, 342): 11\n",
      "Image (Lenght, width):count\n",
      " (512, 461): 1\n",
      "Image (Lenght, width):count\n",
      " (512, 287): 4\n",
      "Image (Lenght, width):count\n",
      " (341, 512): 4\n",
      "Image (Lenght, width):count\n",
      " (512, 406): 1\n",
      "Image (Lenght, width):count\n",
      " (508, 512): 1\n",
      "Image (Lenght, width):count\n",
      " (512, 308): 1\n",
      "Image (Lenght, width):count\n",
      " (512, 366): 3\n",
      "Image (Lenght, width):count\n",
      " (512, 372): 1\n",
      "Image (Lenght, width):count\n",
      " (288, 512): 4\n",
      "Image (Lenght, width):count\n",
      " (512, 329): 1\n",
      "Image (Lenght, width):count\n",
      " (343, 512): 1\n",
      "Image (Lenght, width):count\n",
      " (512, 439): 1\n",
      "Image (Lenght, width):count\n",
      " (512, 445): 1\n",
      "Image (Lenght, width):count\n",
      " (512, 384): 362\n",
      "Image (Lenght, width):count\n",
      " (510, 512): 2\n",
      "Image (Lenght, width):count\n",
      " (512, 509): 3\n",
      "Image (Lenght, width):count\n",
      " (442, 512): 1\n",
      "Image (Lenght, width):count\n",
      " (424, 512): 2\n",
      "Image (Lenght, width):count\n",
      " (512, 506): 1\n",
      "Image (Lenght, width):count\n",
      " (512, 512): 1084\n",
      "Image (Lenght, width):count\n",
      " (382, 512): 66\n",
      "Image (Lenght, width):count\n",
      " (512, 451): 1\n",
      "Image (Lenght, width):count\n",
      " (512, 396): 1\n",
      "Image (Lenght, width):count\n",
      " (512, 332): 1\n",
      "Image (Lenght, width):count\n",
      " (512, 341): 31\n",
      "Image (Lenght, width):count\n",
      " (512, 335): 1\n",
      "Image (Lenght, width):count\n",
      " (307, 512): 3\n",
      "Image (Lenght, width):count\n",
      " (512, 338): 1\n",
      "Image (Lenght, width):count\n",
      " (512, 344): 2\n",
      "Image (Lenght, width):count\n",
      " (512, 289): 19\n",
      "Image (Lenght, width):count\n",
      " (512, 469): 1\n",
      "Image (Lenght, width):count\n",
      " (512, 307): 9\n",
      "Image (Lenght, width):count\n",
      " (512, 374): 1\n",
      "Image (Lenght, width):count\n",
      " (512, 432): 2\n",
      "Image (Lenght, width):count\n",
      " (384, 512): 150\n",
      "Image (Lenght, width):count\n",
      " (512, 377): 1\n",
      "Image (Lenght, width):count\n",
      " (329, 512): 1\n",
      "Image (Lenght, width):count\n",
      " (287, 512): 2\n",
      "Image (Lenght, width):count\n",
      " (512, 441): 1\n",
      "Image (Lenght, width):count\n",
      " (386, 512): 1\n",
      "Image (Lenght, width):count\n",
      " (418, 512): 1\n",
      "Image (Lenght, width):count\n",
      " (289, 512): 8\n",
      "Image (Lenght, width):count\n",
      " (342, 512): 1\n",
      "Image (Lenght, width):count\n",
      " (512, 383): 9\n",
      "Image (Lenght, width):count\n",
      " (366, 512): 1\n",
      "Image (Lenght, width):count\n",
      " (507, 512): 1\n",
      "Image (Lenght, width):count\n",
      " (512, 459): 2\n",
      "Image (Lenght, width):count\n",
      " (512, 398): 1\n",
      "Image (Lenght, width):count\n",
      " (512, 511): 12\n",
      "Image (Lenght, width):count\n",
      " (512, 343): 1\n",
      "Image (Lenght, width):count\n",
      " (512, 340): 9\n",
      "Image (Lenght, width):count\n",
      " (443, 512): 1\n",
      "Image (Lenght, width):count\n",
      " (512, 410): 1\n",
      "Image (Lenght, width):count\n",
      " (512, 288): 13\n",
      "Image (Lenght, width):count\n",
      " (388, 512): 1\n",
      "Image (Lenght, width):count\n",
      " (512, 352): 1\n",
      "Image (Lenght, width):count\n",
      " (511, 512): 11\n",
      "Image (Lenght, width):count\n",
      " (324, 512): 1\n",
      "Image (Lenght, width):count\n",
      " (445, 512): 1\n",
      "Image (Lenght, width):count\n",
      " (500, 512): 1\n",
      "Image (Lenght, width):count\n",
      " (491, 512): 1\n",
      "Image (Lenght, width):count\n",
      " (512, 306): 24\n",
      "Image (Lenght, width):count\n",
      " (306, 512): 8\n",
      "Image (Lenght, width):count\n",
      " (512, 434): 1\n",
      "Image (Lenght, width):count\n",
      " (512, 312): 1\n",
      "Image (Lenght, width):count\n",
      " (512, 318): 1\n",
      "Image (Lenght, width):count\n",
      " (512, 382): 52\n",
      "Image (Lenght, width):count\n",
      " (512, 388): 2\n",
      "Image (Lenght, width):count\n",
      " (512, 446): 1\n",
      "Image (Lenght, width):count\n",
      " (512, 385): 5\n",
      "Image (Lenght, width):count\n",
      " (512, 391): 1\n",
      "Image (Lenght, width):count\n",
      " (512, 333): 2\n",
      "Image (Lenght, width):count\n",
      " (383, 512): 5\n"
     ]
    }
   ],
   "source": [
    "# check size of all images\n",
    "from PIL import Image\n",
    "image_sizes_set = set()\n",
    "image_sizes = []\n",
    "\n",
    "for image in all_files:\n",
    "    imgData = Image.open(image[1] + image[2]).convert(\"L\") #converts it all to grayscale, 2d matrix\n",
    "    image_sizes_set.add(imgData.size)\n",
    "    image_sizes.append(imgData.size)\n",
    "\n",
    "for size in image_sizes_set:\n",
    "    num = image_sizes.count(size)\n",
    "    print(\"Image (Lenght, width):count\\n\",f'{size}: {num}')\n",
    "      "
   ]
  },
  {
   "cell_type": "code",
   "execution_count": 64,
   "metadata": {},
   "outputs": [],
   "source": [
    "# We notice that more than half of the images are of the size 512x512\n",
    "# Hence for preprocessing we will skew (i.e. stretch) the images to 512x512\n",
    "\n",
    "# We will use the PIL library to stretch the images to a standard size of 512x512. \n",
    "# Then we will use np.array and Image.open() to convert the images to a 2d array of rgb values, and then store them into a pandas dataframe.\n",
    "# i.e. each image is converted to a 3d array of dimensions [512][512][3]\n",
    "#Additionally, given these are real life photos of pizza and not pizza, we can assume we have a dense dataset."
   ]
  },
  {
   "cell_type": "code",
   "execution_count": 10,
   "metadata": {},
   "outputs": [
    {
     "name": "stdout",
     "output_type": "stream",
     "text": [
      "[[[ 23  10   2]\n",
      "  [ 25  12   4]\n",
      "  [ 28  13   6]\n",
      "  ...\n",
      "  [ 12   7   4]\n",
      "  [ 10   5   2]\n",
      "  [  9   4   1]]\n",
      "\n",
      " [[ 23  10   2]\n",
      "  [ 25  12   4]\n",
      "  [ 28  13   6]\n",
      "  ...\n",
      "  [ 12   7   4]\n",
      "  [ 11   6   3]\n",
      "  [  9   4   1]]\n",
      "\n",
      " [[ 24  11   3]\n",
      "  [ 26  13   5]\n",
      "  [ 29  14   7]\n",
      "  ...\n",
      "  [ 12   7   4]\n",
      "  [ 10   6   3]\n",
      "  [  8   4   1]]\n",
      "\n",
      " ...\n",
      "\n",
      " [[ 93  37  12]\n",
      "  [ 94  38  13]\n",
      "  [ 95  39  14]\n",
      "  ...\n",
      "  [ 69  17   6]\n",
      "  [ 64  12   1]\n",
      "  [ 60   8   0]]\n",
      "\n",
      " [[ 94  40  14]\n",
      "  [ 97  43  17]\n",
      "  [100  46  20]\n",
      "  ...\n",
      "  [ 59  10   0]\n",
      "  [ 58   9   0]\n",
      "  [ 57   8   0]]\n",
      "\n",
      " [[ 86  32   6]\n",
      "  [ 92  38  12]\n",
      "  [ 97  43  17]\n",
      "  ...\n",
      "  [ 75  26  12]\n",
      "  [ 77  28  14]\n",
      "  [ 80  31  17]]]\n"
     ]
    }
   ],
   "source": [
    "# example of converting image to 3d numpy array\n",
    "\n",
    "import numpy as np\n",
    "\n",
    "img = Image.open(all_files[0][1] + all_files[0][2])\n",
    "\n",
    "img.show()\n",
    "print(np.array(img))"
   ]
  }
 ],
 "metadata": {
  "kernelspec": {
   "display_name": "Python 3.10.8 64-bit",
   "language": "python",
   "name": "python3"
  },
  "language_info": {
   "codemirror_mode": {
    "name": "ipython",
    "version": 3
   },
   "file_extension": ".py",
   "mimetype": "text/x-python",
   "name": "python",
   "nbconvert_exporter": "python",
   "pygments_lexer": "ipython3",
   "version": "3.10.8"
  },
  "vscode": {
   "interpreter": {
    "hash": "aee8b7b246df8f9039afb4144a1f6fd8d2ca17a180786b69acc140d282b71a49"
   }
  }
 },
 "nbformat": 4,
 "nbformat_minor": 2
}
